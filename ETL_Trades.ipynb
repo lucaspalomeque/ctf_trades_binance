{
  "nbformat": 4,
  "nbformat_minor": 0,
  "metadata": {
    "colab": {
      "name": "ETL Trades",
      "version": "0.3.2",
      "provenance": [],
      "include_colab_link": true
    },
    "kernelspec": {
      "name": "python3",
      "display_name": "Python 3"
    }
  },
  "cells": [
    {
      "cell_type": "markdown",
      "metadata": {
        "id": "view-in-github",
        "colab_type": "text"
      },
      "source": [
        "<a href=\"https://colab.research.google.com/github/lucaspalomeque/ctf_trades_binance/blob/master/ETL_Trades.ipynb\" target=\"_parent\"><img src=\"https://colab.research.google.com/assets/colab-badge.svg\" alt=\"Open In Colab\"/></a>"
      ]
    },
    {
      "cell_type": "markdown",
      "metadata": {
        "id": "uhI9kxBcSXc-",
        "colab_type": "text"
      },
      "source": [
        "#ETLs Trades#"
      ]
    },
    {
      "cell_type": "markdown",
      "metadata": {
        "id": "J2Acq8hUbp-v",
        "colab_type": "text"
      },
      "source": [
        "Temas a solucionar: \n",
        "1. Bitstamp problemas con el almacenamiento\n",
        "2. Kraken problema con el timestamp (lo lleva a 1970)\n",
        "3. Binance no corre bien los dollar bars. \n",
        "4. Agregar en la transformacion el tickey y el exchange. Si todos los datos se almacenan igual con un regex podriamos agregar eso facilmente. \n",
        "5. Sumar CUSUM filter\n",
        "6. Crear imbalance Bars"
      ]
    },
    {
      "cell_type": "code",
      "metadata": {
        "id": "9aq6OmsaBIWX",
        "colab_type": "code",
        "outputId": "46483625-1f1f-4a5b-f7e9-8a6ad9b3c3dc",
        "colab": {
          "base_uri": "https://localhost:8080/",
          "height": 85
        }
      },
      "source": [
        "%pip install ijson\n",
        "%pip install json\n",
        "\n",
        "import json  \n",
        "import pandas as pd  \n",
        "from pandas.io.json import json_normalize  \n",
        "\n",
        "from statsmodels.tsa.stattools import adfuller\n",
        "\n",
        "import matplotlib.pyplot as plt\n",
        "from matplotlib import style\n",
        "import pandas as pd\n",
        "\n",
        "import numpy as np\n",
        "\n",
        "import datetime"
      ],
      "execution_count": 0,
      "outputs": [
        {
          "output_type": "stream",
          "text": [
            "Requirement already satisfied: ijson in /usr/local/lib/python3.6/dist-packages (2.3)\n",
            "Collecting json\n",
            "\u001b[31m  ERROR: Could not find a version that satisfies the requirement json (from versions: none)\u001b[0m\n",
            "\u001b[31mERROR: No matching distribution found for json\u001b[0m\n"
          ],
          "name": "stdout"
        }
      ]
    },
    {
      "cell_type": "code",
      "metadata": {
        "id": "V0ft2jvDHowj",
        "colab_type": "code",
        "colab": {}
      },
      "source": [
        "#esto es el codigo para subir cosas a google colab\n",
        "def subir_archivo():\n",
        "  from google.colab import files\n",
        "  uploaded = files.upload()\n",
        "  \n",
        "  for file in uploaded.keys():\n",
        "    print('Uploaded file \"{name}\" with length {length} bytes'.format(name=file, length=len(uploaded[file])))\n",
        "  \n",
        "  return uploaded"
      ],
      "execution_count": 0,
      "outputs": []
    },
    {
      "cell_type": "code",
      "metadata": {
        "id": "LD3rWM4KM9qk",
        "colab_type": "code",
        "outputId": "334c4d3a-cf40-409e-bda8-787f9154d3e8",
        "colab": {
          "resources": {
            "http://localhost:8080/nbextensions/google.colab/files.js": {
              "data": "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",
              "ok": true,
              "headers": [
                [
                  "content-type",
                  "application/javascript"
                ]
              ],
              "status": 200,
              "status_text": ""
            }
          },
          "base_uri": "https://localhost:8080/",
          "height": 125
        }
      },
      "source": [
        "subir_archivo()"
      ],
      "execution_count": 0,
      "outputs": [
        {
          "output_type": "display_data",
          "data": {
            "text/html": [
              "\n",
              "     <input type=\"file\" id=\"files-f1da9db2-c494-4eea-aa32-bac063cec072\" name=\"files[]\" multiple disabled />\n",
              "     <output id=\"result-f1da9db2-c494-4eea-aa32-bac063cec072\">\n",
              "      Upload widget is only available when the cell has been executed in the\n",
              "      current browser session. Please rerun this cell to enable.\n",
              "      </output>\n",
              "      <script src=\"/nbextensions/google.colab/files.js\"></script> "
            ],
            "text/plain": [
              "<IPython.core.display.HTML object>"
            ]
          },
          "metadata": {
            "tags": []
          }
        },
        {
          "output_type": "stream",
          "text": [
            "Saving kraken-BTCUSD-2019-5-13 07_58_54.json to kraken-BTCUSD-2019-5-13 07_58_54.json\n",
            "Uploaded file \"kraken-BTCUSD-2019-5-13 07_58_54.json\" with length 64538 bytes\n"
          ],
          "name": "stdout"
        },
        {
          "output_type": "execute_result",
          "data": {
            "text/plain": [
              "{'kraken-BTCUSD-2019-5-13 07_58_54.json': b'{\"data\":[{\"price\":\"7073.70000\",\"volume\":\"0.10000000\",\"time\":\"1557730746.807457\",\"side\":\"b\",\"orderType\":\"m\",\"misc\":\"\"},{\"price\":\"7073.60000\",\"volume\":\"0.06180000\",\"time\":\"1557730778.637459\",\"side\":\"b\",\"orderType\":\"l\",\"misc\":\"\"},{\"price\":\"7074.70000\",\"volume\":\"0.15000000\",\"time\":\"1557730788.577943\",\"side\":\"b\",\"orderType\":\"m\",\"misc\":\"\"},{\"price\":\"7073.50000\",\"volume\":\"0.00461000\",\"time\":\"1557730804.497243\",\"side\":\"s\",\"orderType\":\"m\",\"misc\":\"\"},{\"price\":\"7073.50000\",\"volume\":\"0.01316000\",\"time\":\"1557730809.804852\",\"side\":\"s\",\"orderType\":\"m\",\"misc\":\"\"},{\"price\":\"7074.10000\",\"volume\":\"0.09890000\",\"time\":\"1557730810.847485\",\"side\":\"b\",\"orderType\":\"l\",\"misc\":\"\"},{\"price\":\"7074.80000\",\"volume\":\"0.25000000\",\"time\":\"1557730851.643384\",\"side\":\"b\",\"orderType\":\"l\",\"misc\":\"\"},{\"price\":\"7074.40000\",\"volume\":\"0.30000000\",\"time\":\"1557730861.593042\",\"side\":\"s\",\"orderType\":\"l\",\"misc\":\"\"},{\"price\":\"7074.40000\",\"volume\":\"0.30000000\",\"time\":\"1557730862.455507\",\"side\":\"s\",\"orderType\":\"l\",\"misc\":\"\"},{\"price\":\"7074.40000\",\"volume\":\"0.02800000\",\"time\":\"1557730866.721031\",\"side\":\"s\",\"orderType\":\"l\",\"misc\":\"\"},{\"price\":\"7074.20000\",\"volume\":\"0.11130000\",\"time\":\"1557730866.725494\",\"side\":\"s\",\"orderType\":\"l\",\"misc\":\"\"},{\"price\":\"7074.20000\",\"volume\":\"0.00300003\",\"time\":\"1557730866.729004\",\"side\":\"s\",\"orderType\":\"l\",\"misc\":\"\"},{\"price\":\"7074.20000\",\"volume\":\"0.01199997\",\"time\":\"1557730866.731630\",\"side\":\"s\",\"orderType\":\"l\",\"misc\":\"\"},{\"price\":\"7072.30000\",\"volume\":\"0.34100000\",\"time\":\"1557730916.477544\",\"side\":\"s\",\"orderType\":\"m\",\"misc\":\"\"},{\"price\":\"7072.20000\",\"volume\":\"0.07700000\",\"time\":\"1557730916.481947\",\"side\":\"s\",\"orderType\":\"m\",\"misc\":\"\"},{\"price\":\"7072.20000\",\"volume\":\"0.09270000\",\"time\":\"1557730916.485798\",\"side\":\"s\",\"orderType\":\"m\",\"misc\":\"\"},{\"price\":\"7071.90000\",\"volume\":\"0.19300000\",\"time\":\"1557730916.490237\",\"side\":\"s\",\"orderType\":\"m\",\"misc\":\"\"},{\"price\":\"7070.60000\",\"volume\":\"0.99411577\",\"time\":\"1557730916.494706\",\"side\":\"s\",\"orderType\":\"m\",\"misc\":\"\"},{\"price\":\"7070.60000\",\"volume\":\"0.00218225\",\"time\":\"1557730916.497315\",\"side\":\"s\",\"orderType\":\"m\",\"misc\":\"\"},{\"price\":\"7070.60000\",\"volume\":\"0.00000198\",\"time\":\"1557730916.499829\",\"side\":\"s\",\"orderType\":\"m\",\"misc\":\"\"},{\"price\":\"7072.30000\",\"volume\":\"0.34100000\",\"time\":\"1557730916.690961\",\"side\":\"b\",\"orderType\":\"l\",\"misc\":\"\"},{\"price\":\"7071.80000\",\"volume\":\"0.19300000\",\"time\":\"1557730923.388746\",\"side\":\"b\",\"orderType\":\"l\",\"misc\":\"\"},{\"price\":\"7070.40000\",\"volume\":\"0.05292502\",\"time\":\"1557730969.320530\",\"side\":\"b\",\"orderType\":\"l\",\"misc\":\"\"},{\"price\":\"7070.40000\",\"volume\":\"0.02000000\",\"time\":\"1557730973.107836\",\"side\":\"b\",\"orderType\":\"m\",\"misc\":\"\"},{\"price\":\"7070.40000\",\"volume\":\"0.03313160\",\"time\":\"1557730973.174626\",\"side\":\"b\",\"orderType\":\"l\",\"misc\":\"\"},{\"price\":\"7069.60000\",\"volume\":\"0.01683300\",\"time\":\"1557730981.860522\",\"side\":\"s\",\"orderType\":\"l\",\"misc\":\"\"},{\"price\":\"7070.10000\",\"volume\":\"0.10572000\",\"time\":\"1557730986.918581\",\"side\":\"b\",\"orderType\":\"m\",\"misc\":\"\"},{\"price\":\"7070.10000\",\"volume\":\"0.01328000\",\"time\":\"1557730986.939355\",\"side\":\"b\",\"orderType\":\"m\",\"misc\":\"\"},{\"price\":\"7070.30000\",\"volume\":\"0.05600000\",\"time\":\"1557730986.942567\",\"side\":\"b\",\"orderType\":\"m\",\"misc\":\"\"},{\"price\":\"7064.90000\",\"volume\":\"0.04248764\",\"time\":\"1557731034.214210\",\"side\":\"s\",\"orderType\":\"m\",\"misc\":\"\"},{\"price\":\"7065.00000\",\"volume\":\"0.01600000\",\"time\":\"1557731064.791408\",\"side\":\"b\",\"orderType\":\"l\",\"misc\":\"\"},{\"price\":\"7065.10000\",\"volume\":\"0.17700000\",\"time\":\"1557731064.804160\",\"side\":\"b\",\"orderType\":\"l\",\"misc\":\"\"},{\"price\":\"7064.00000\",\"volume\":\"0.01057617\",\"time\":\"1557731094.438215\",\"side\":\"s\",\"orderType\":\"l\",\"misc\":\"\"},{\"price\":\"7064.00000\",\"volume\":\"0.04215322\",\"time\":\"1557731095.507360\",\"side\":\"s\",\"orderType\":\"l\",\"misc\":\"\"},{\"price\":\"7064.00000\",\"volume\":\"0.00450301\",\"time\":\"1557731097.154836\",\"side\":\"s\",\"orderType\":\"l\",\"misc\":\"\"},{\"price\":\"7064.00000\",\"volume\":\"0.04214670\",\"time\":\"1557731097.761880\",\"side\":\"s\",\"orderType\":\"l\",\"misc\":\"\"},{\"price\":\"7064.00000\",\"volume\":\"0.04214396\",\"time\":\"1557731099.535420\",\"side\":\"s\",\"orderType\":\"l\",\"misc\":\"\"},{\"price\":\"7064.00000\",\"volume\":\"0.04214098\",\"time\":\"1557731100.624101\",\"side\":\"s\",\"orderType\":\"l\",\"misc\":\"\"},{\"price\":\"7064.00000\",\"volume\":\"0.03000000\",\"time\":\"1557731104.833979\",\"side\":\"s\",\"orderType\":\"m\",\"misc\":\"\"},{\"price\":\"7064.00000\",\"volume\":\"0.50000000\",\"time\":\"1557731107.635712\",\"side\":\"s\",\"orderType\":\"l\",\"misc\":\"\"},{\"price\":\"7064.00000\",\"volume\":\"0.04212946\",\"time\":\"1557731111.753959\",\"side\":\"s\",\"orderType\":\"l\",\"misc\":\"\"},{\"price\":\"7064.00000\",\"volume\":\"0.04212857\",\"time\":\"1557731111.981784\",\"side\":\"s\",\"orderType\":\"l\",\"misc\":\"\"},{\"price\":\"7064.00000\",\"volume\":\"0.04212823\",\"time\":\"1557731112.142463\",\"side\":\"s\",\"orderType\":\"l\",\"misc\":\"\"},{\"price\":\"7064.00000\",\"volume\":\"0.04212868\",\"time\":\"1557731114.047416\",\"side\":\"s\",\"orderType\":\"l\",\"misc\":\"\"},{\"price\":\"7064.00000\",\"volume\":\"0.07319405\",\"time\":\"1557731128.707424\",\"side\":\"s\",\"orderType\":\"l\",\"misc\":\"\"},{\"price\":\"7064.10000\",\"volume\":\"0.00200003\",\"time\":\"1557731153.539535\",\"side\":\"b\",\"orderType\":\"m\",\"misc\":\"\"},{\"price\":\"7064.10000\",\"volume\":\"0.00500000\",\"time\":\"1557731153.544130\",\"side\":\"b\",\"orderType\":\"m\",\"misc\":\"\"},{\"price\":\"7064.10000\",\"volume\":\"0.00099997\",\"time\":\"1557731153.547813\",\"side\":\"b\",\"orderType\":\"m\",\"misc\":\"\"},{\"price\":\"7064.00000\",\"volume\":\"0.15000000\",\"time\":\"1557731154.071253\",\"side\":\"s\",\"orderType\":\"l\",\"misc\":\"\"},{\"price\":\"7064.00000\",\"volume\":\"0.00429300\",\"time\":\"1557731156.013177\",\"side\":\"s\",\"orderType\":\"m\",\"misc\":\"\"},{\"price\":\"7064.00000\",\"volume\":\"2.89033397\",\"time\":\"1557731163.299093\",\"side\":\"s\",\"orderType\":\"l\",\"misc\":\"\"},{\"price\":\"7052.30000\",\"volume\":\"0.05450001\",\"time\":\"1557731207.077805\",\"side\":\"b\",\"orderType\":\"l\",\"misc\":\"\"},{\"price\":\"7052.40000\",\"volume\":\"0.13849999\",\"time\":\"1557731207.085726\",\"side\":\"b\",\"orderType\":\"l\",\"misc\":\"\"},{\"price\":\"7052.30000\",\"volume\":\"0.05450001\",\"time\":\"1557731215.173268\",\"side\":\"b\",\"orderType\":\"l\",\"misc\":\"\"},{\"price\":\"7052.40000\",\"volume\":\"0.28939687\",\"time\":\"1557731215.176929\",\"side\":\"b\",\"orderType\":\"l\",\"misc\":\"\"},{\"price\":\"7052.40000\",\"volume\":\"0.57210314\",\"time\":\"1557731215.180384\",\"side\":\"b\",\"orderType\":\"l\",\"misc\":\"\"},{\"price\":\"7057.70000\",\"volume\":\"0.02000000\",\"time\":\"1557731281.662026\",\"side\":\"b\",\"orderType\":\"m\",\"misc\":\"\"},{\"price\":\"7057.10000\",\"volume\":\"0.02267156\",\"time\":\"1557731297.505095\",\"side\":\"s\",\"orderType\":\"l\",\"misc\":\"\"},{\"price\":\"7062.70000\",\"volume\":\"0.02267166\",\"time\":\"1557731351.640467\",\"side\":\"b\",\"orderType\":\"m\",\"misc\":\"\"},{\"price\":\"7062.80000\",\"volume\":\"0.03679557\",\"time\":\"1557731351.647655\",\"side\":\"b\",\"orderType\":\"m\",\"misc\":\"\"},{\"price\":\"7061.20000\",\"volume\":\"0.00368209\",\"time\":\"1557731374.251807\",\"side\":\"s\",\"orderType\":\"l\",\"misc\":\"\"},{\"price\":\"7061.20000\",\"volume\":\"0.21631791\",\"time\":\"1557731374.257312\",\"side\":\"s\",\"orderType\":\"l\",\"misc\":\"\"},{\"price\":\"7061.20000\",\"volume\":\"0.07907328\",\"time\":\"1557731375.929406\",\"side\":\"s\",\"orderType\":\"l\",\"misc\":\"\"},{\"price\":\"7061.20000\",\"volume\":\"0.00007900\",\"time\":\"1557731375.935365\",\"side\":\"s\",\"orderType\":\"l\",\"misc\":\"\"},{\"price\":\"7061.20000\",\"volume\":\"0.00000007\",\"time\":\"1557731375.937277\",\"side\":\"s\",\"orderType\":\"l\",\"misc\":\"\"},{\"price\":\"7061.20000\",\"volume\":\"0.16000000\",\"time\":\"1557731393.752033\",\"side\":\"s\",\"orderType\":\"l\",\"misc\":\"\"},{\"price\":\"7060.70000\",\"volume\":\"0.00707000\",\"time\":\"1557731403.775709\",\"side\":\"b\",\"orderType\":\"l\",\"misc\":\"\"},{\"price\":\"7060.00000\",\"volume\":\"0.29000000\",\"time\":\"1557731404.032816\",\"side\":\"s\",\"orderType\":\"l\",\"misc\":\"\"},{\"price\":\"7060.00000\",\"volume\":\"0.01000000\",\"time\":\"1557731407.808879\",\"side\":\"s\",\"orderType\":\"l\",\"misc\":\"\"},{\"price\":\"7058.10000\",\"volume\":\"0.21673466\",\"time\":\"1557731419.816798\",\"side\":\"b\",\"orderType\":\"l\",\"misc\":\"\"},{\"price\":\"7058.10000\",\"volume\":\"1.00000000\",\"time\":\"1557731419.822449\",\"side\":\"b\",\"orderType\":\"l\",\"misc\":\"\"},{\"price\":\"7058.10000\",\"volume\":\"0.02555900\",\"time\":\"1557731419.827025\",\"side\":\"b\",\"orderType\":\"l\",\"misc\":\"\"},{\"price\":\"7058.10000\",\"volume\":\"0.17468888\",\"time\":\"1557731419.830603\",\"side\":\"b\",\"orderType\":\"l\",\"misc\":\"\"},{\"price\":\"7058.00000\",\"volume\":\"0.04000000\",\"time\":\"1557731441.652762\",\"side\":\"s\",\"orderType\":\"l\",\"misc\":\"\"},{\"price\":\"7058.00000\",\"volume\":\"4.74740000\",\"time\":\"1557731442.633608\",\"side\":\"s\",\"orderType\":\"l\",\"misc\":\"\"},{\"price\":\"7058.00000\",\"volume\":\"1.21260000\",\"time\":\"1557731442.718340\",\"side\":\"s\",\"orderType\":\"l\",\"misc\":\"\"},{\"price\":\"7054.00000\",\"volume\":\"0.00072000\",\"time\":\"1557731445.076204\",\"side\":\"s\",\"orderType\":\"l\",\"misc\":\"\"},{\"price\":\"7053.90000\",\"volume\":\"0.59928000\",\"time\":\"1557731445.079924\",\"side\":\"s\",\"orderType\":\"l\",\"misc\":\"\"},{\"price\":\"7053.90000\",\"volume\":\"0.00172000\",\"time\":\"1557731445.102094\",\"side\":\"s\",\"orderType\":\"l\",\"misc\":\"\"},{\"price\":\"7050.00000\",\"volume\":\"0.00129479\",\"time\":\"1557731447.570141\",\"side\":\"s\",\"orderType\":\"l\",\"misc\":\"\"},{\"price\":\"7050.00000\",\"volume\":\"0.00070521\",\"time\":\"1557731447.576530\",\"side\":\"s\",\"orderType\":\"l\",\"misc\":\"\"},{\"price\":\"7050.10000\",\"volume\":\"0.00000003\",\"time\":\"1557731451.184708\",\"side\":\"b\",\"orderType\":\"m\",\"misc\":\"\"},{\"price\":\"7050.10000\",\"volume\":\"0.00799997\",\"time\":\"1557731451.188963\",\"side\":\"b\",\"orderType\":\"m\",\"misc\":\"\"},{\"price\":\"7050.10000\",\"volume\":\"0.03200000\",\"time\":\"1557731455.492696\",\"side\":\"b\",\"orderType\":\"l\",\"misc\":\"\"},{\"price\":\"7050.10000\",\"volume\":\"0.18900000\",\"time\":\"1557731455.498735\",\"side\":\"b\",\"orderType\":\"l\",\"misc\":\"\"},{\"price\":\"7050.60000\",\"volume\":\"0.18700000\",\"time\":\"1557731457.416728\",\"side\":\"b\",\"orderType\":\"l\",\"misc\":\"\"},{\"price\":\"7050.70000\",\"volume\":\"0.16100000\",\"time\":\"1557731457.812339\",\"side\":\"b\",\"orderType\":\"l\",\"misc\":\"\"},{\"price\":\"7052.70000\",\"volume\":\"0.07900000\",\"time\":\"1557731461.790216\",\"side\":\"b\",\"orderType\":\"l\",\"misc\":\"\"},{\"price\":\"7050.20000\",\"volume\":\"0.00781034\",\"time\":\"1557731473.932130\",\"side\":\"s\",\"orderType\":\"l\",\"misc\":\"\"},{\"price\":\"7050.00000\",\"volume\":\"0.03964640\",\"time\":\"1557731477.183308\",\"side\":\"s\",\"orderType\":\"l\",\"misc\":\"\"},{\"price\":\"7050.90000\",\"volume\":\"0.04988757\",\"time\":\"1557731481.347185\",\"side\":\"b\",\"orderType\":\"m\",\"misc\":\"\"},{\"price\":\"7050.00000\",\"volume\":\"0.28000000\",\"time\":\"1557731495.122605\",\"side\":\"s\",\"orderType\":\"l\",\"misc\":\"\"},{\"price\":\"7050.00000\",\"volume\":\"0.04539400\",\"time\":\"1557731514.383861\",\"side\":\"s\",\"orderType\":\"m\",\"misc\":\"\"},{\"price\":\"7050.00000\",\"volume\":\"0.30000000\",\"time\":\"1557731549.122183\",\"side\":\"s\",\"orderType\":\"m\",\"misc\":\"\"},{\"price\":\"7050.10000\",\"volume\":\"0.19900000\",\"time\":\"1557731602.417748\",\"side\":\"s\",\"orderType\":\"l\",\"misc\":\"\"},{\"price\":\"7050.00000\",\"volume\":\"0.22150960\",\"time\":\"1557731602.422183\",\"side\":\"s\",\"orderType\":\"l\",\"misc\":\"\"},{\"price\":\"7050.00000\",\"volume\":\"0.02159000\",\"time\":\"1557731602.425748\",\"side\":\"s\",\"orderType\":\"l\",\"misc\":\"\"},{\"price\":\"7050.00000\",\"volume\":\"0.05556000\",\"time\":\"1557731602.428395\",\"side\":\"s\",\"orderType\":\"l\",\"misc\":\"\"},{\"price\":\"7050.00000\",\"volume\":\"0.80581000\",\"time\":\"1557731602.431097\",\"side\":\"s\",\"orderType\":\"l\",\"misc\":\"\"},{\"price\":\"7050.00000\",\"volume\":\"0.02844000\",\"time\":\"1557731602.433788\",\"side\":\"s\",\"orderType\":\"l\",\"misc\":\"\"},{\"price\":\"7050.00000\",\"volume\":\"0.32809040\",\"time\":\"1557731602.437023\",\"side\":\"s\",\"orderType\":\"l\",\"misc\":\"\"},{\"price\":\"7050.00000\",\"volume\":\"0.00490960\",\"time\":\"1557731602.443761\",\"side\":\"s\",\"orderType\":\"l\",\"misc\":\"\"},{\"price\":\"7047.10000\",\"volume\":\"0.00300000\",\"time\":\"1557731621.539302\",\"side\":\"s\",\"orderType\":\"m\",\"misc\":\"\"},{\"price\":\"7045.00000\",\"volume\":\"0.11676748\",\"time\":\"1557731621.548532\",\"side\":\"s\",\"orderType\":\"m\",\"misc\":\"\"},{\"price\":\"7045.00000\",\"volume\":\"0.00027252\",\"time\":\"1557731621.551246\",\"side\":\"s\",\"orderType\":\"m\",\"misc\":\"\"},{\"price\":\"7046.20000\",\"volume\":\"0.55000000\",\"time\":\"1557731655.505705\",\"side\":\"s\",\"orderType\":\"l\",\"misc\":\"\"},{\"price\":\"7046.20000\",\"volume\":\"0.09300000\",\"time\":\"1557731656.144766\",\"side\":\"s\",\"orderType\":\"l\",\"misc\":\"\"},{\"price\":\"7045.00000\",\"volume\":\"0.01536186\",\"time\":\"1557731660.098817\",\"side\":\"s\",\"orderType\":\"l\",\"misc\":\"\"},{\"price\":\"7045.00000\",\"volume\":\"0.86000000\",\"time\":\"1557731675.854131\",\"side\":\"s\",\"orderType\":\"l\",\"misc\":\"\"},{\"price\":\"7045.00000\",\"volume\":\"0.00759814\",\"time\":\"1557731677.415207\",\"side\":\"s\",\"orderType\":\"l\",\"misc\":\"\"},{\"price\":\"7042.40000\",\"volume\":\"0.04300000\",\"time\":\"1557731686.602112\",\"side\":\"b\",\"orderType\":\"l\",\"misc\":\"\"},{\"price\":\"7042.40000\",\"volume\":\"0.00200000\",\"time\":\"1557731711.612303\",\"side\":\"s\",\"orderType\":\"l\",\"misc\":\"\"},{\"price\":\"7041.20000\",\"volume\":\"0.76158280\",\"time\":\"1557731711.618126\",\"side\":\"s\",\"orderType\":\"l\",\"misc\":\"\"},{\"price\":\"7041.20000\",\"volume\":\"0.00151720\",\"time\":\"1557731711.620828\",\"side\":\"s\",\"orderType\":\"l\",\"misc\":\"\"},{\"price\":\"7046.50000\",\"volume\":\"0.12054000\",\"time\":\"1557731712.359246\",\"side\":\"b\",\"orderType\":\"m\",\"misc\":\"\"},{\"price\":\"7041.30000\",\"volume\":\"0.02267161\",\"time\":\"1557731715.963018\",\"side\":\"s\",\"orderType\":\"m\",\"misc\":\"\"},{\"price\":\"7041.20000\",\"volume\":\"0.23690000\",\"time\":\"1557731715.970885\",\"side\":\"s\",\"orderType\":\"m\",\"misc\":\"\"},{\"price\":\"7041.10000\",\"volume\":\"0.00300000\",\"time\":\"1557731715.974593\",\"side\":\"s\",\"orderType\":\"m\",\"misc\":\"\"},{\"price\":\"7041.00000\",\"volume\":\"0.08490000\",\"time\":\"1557731715.977115\",\"side\":\"s\",\"orderType\":\"m\",\"misc\":\"\"},{\"price\":\"7040.90000\",\"volume\":\"0.30000000\",\"time\":\"1557731716.023319\",\"side\":\"s\",\"orderType\":\"m\",\"misc\":\"\"},{\"price\":\"7040.70000\",\"volume\":\"0.83407151\",\"time\":\"1557731716.026539\",\"side\":\"s\",\"orderType\":\"m\",\"misc\":\"\"},{\"price\":\"7040.70000\",\"volume\":\"0.16592849\",\"time\":\"1557731716.029332\",\"side\":\"s\",\"orderType\":\"m\",\"misc\":\"\"},{\"price\":\"7040.00000\",\"volume\":\"1.00000000\",\"time\":\"1557731716.032789\",\"side\":\"s\",\"orderType\":\"m\",\"misc\":\"\"},{\"price\":\"7039.20000\",\"volume\":\"0.00305690\",\"time\":\"1557731716.036490\",\"side\":\"s\",\"orderType\":\"m\",\"misc\":\"\"},{\"price\":\"7038.70000\",\"volume\":\"1.00000000\",\"time\":\"1557731716.039315\",\"side\":\"s\",\"orderType\":\"m\",\"misc\":\"\"},{\"price\":\"7037.50000\",\"volume\":\"0.42789686\",\"time\":\"1557731716.042398\",\"side\":\"s\",\"orderType\":\"m\",\"misc\":\"\"},{\"price\":\"7037.50000\",\"volume\":\"0.57210314\",\"time\":\"1557731716.044783\",\"side\":\"s\",\"orderType\":\"m\",\"misc\":\"\"},{\"price\":\"7037.40000\",\"volume\":\"1.34947149\",\"time\":\"1557731716.047119\",\"side\":\"s\",\"orderType\":\"m\",\"misc\":\"\"},{\"price\":\"7037.40000\",\"volume\":\"2.50000000\",\"time\":\"1557731716.076587\",\"side\":\"s\",\"orderType\":\"m\",\"misc\":\"\"},{\"price\":\"7047.00000\",\"volume\":\"1.08145785\",\"time\":\"1557731717.757354\",\"side\":\"b\",\"orderType\":\"l\",\"misc\":\"\"},{\"price\":\"7047.10000\",\"volume\":\"0.17900000\",\"time\":\"1557731717.761967\",\"side\":\"b\",\"orderType\":\"l\",\"misc\":\"\"},{\"price\":\"7048.10000\",\"volume\":\"0.00540000\",\"time\":\"1557731720.070565\",\"side\":\"s\",\"orderType\":\"l\",\"misc\":\"\"},{\"price\":\"7049.30000\",\"volume\":\"1.00000000\",\"time\":\"1557731723.463293\",\"side\":\"b\",\"orderType\":\"l\",\"misc\":\"\"},{\"price\":\"7049.30000\",\"volume\":\"0.00200000\",\"time\":\"1557731723.475252\",\"side\":\"b\",\"orderType\":\"l\",\"misc\":\"\"},{\"price\":\"7049.30000\",\"volume\":\"0.06639084\",\"time\":\"1557731723.491209\",\"side\":\"b\",\"orderType\":\"l\",\"misc\":\"\"},{\"price\":\"7048.30000\",\"volume\":\"0.00250000\",\"time\":\"1557731725.760136\",\"side\":\"s\",\"orderType\":\"l\",\"misc\":\"\"},{\"price\":\"7048.30000\",\"volume\":\"0.10000000\",\"time\":\"1557731731.867523\",\"side\":\"s\",\"orderType\":\"m\",\"misc\":\"\"},{\"price\":\"7048.30000\",\"volume\":\"0.00540000\",\"time\":\"1557731732.224536\",\"side\":\"s\",\"orderType\":\"l\",\"misc\":\"\"},{\"price\":\"7048.70000\",\"volume\":\"0.00460000\",\"time\":\"1557731737.761630\",\"side\":\"s\",\"orderType\":\"l\",\"misc\":\"\"},{\"price\":\"7052.90000\",\"volume\":\"0.14800000\",\"time\":\"1557731770.128200\",\"side\":\"b\",\"orderType\":\"m\",\"misc\":\"\"},{\"price\":\"7053.10000\",\"volume\":\"0.65200000\",\"time\":\"1557731770.135215\",\"side\":\"b\",\"orderType\":\"m\",\"misc\":\"\"},{\"price\":\"7048.80000\",\"volume\":\"0.25047048\",\"time\":\"1557731804.567926\",\"side\":\"b\",\"orderType\":\"l\",\"misc\":\"\"},{\"price\":\"7048.80000\",\"volume\":\"0.85600000\",\"time\":\"1557731815.178224\",\"side\":\"b\",\"orderType\":\"m\",\"misc\":\"\"},{\"price\":\"7048.80000\",\"volume\":\"0.01300000\",\"time\":\"1557731819.671569\",\"side\":\"b\",\"orderType\":\"m\",\"misc\":\"\"},{\"price\":\"7048.80000\",\"volume\":\"0.20500000\",\"time\":\"1557731860.047710\",\"side\":\"b\",\"orderType\":\"m\",\"misc\":\"\"},{\"price\":\"7050.20000\",\"volume\":\"0.16700000\",\"time\":\"1557731860.068683\",\"side\":\"b\",\"orderType\":\"m\",\"misc\":\"\"},{\"price\":\"7050.80000\",\"volume\":\"0.02800000\",\"time\":\"1557731860.071597\",\"side\":\"b\",\"orderType\":\"m\",\"misc\":\"\"},{\"price\":\"7050.50000\",\"volume\":\"0.34400000\",\"time\":\"1557731878.545038\",\"side\":\"b\",\"orderType\":\"m\",\"misc\":\"\"},{\"price\":\"7050.30000\",\"volume\":\"0.02653300\",\"time\":\"1557731890.700413\",\"side\":\"b\",\"orderType\":\"m\",\"misc\":\"\"},{\"price\":\"7050.30000\",\"volume\":\"0.01300000\",\"time\":\"1557731896.635957\",\"side\":\"b\",\"orderType\":\"m\",\"misc\":\"\"},{\"price\":\"7050.30000\",\"volume\":\"0.17216441\",\"time\":\"1557731904.702169\",\"side\":\"b\",\"orderType\":\"l\",\"misc\":\"\"},{\"price\":\"7049.30000\",\"volume\":\"0.00030000\",\"time\":\"1557731923.356945\",\"side\":\"s\",\"orderType\":\"m\",\"misc\":\"\"},{\"price\":\"7050.40000\",\"volume\":\"0.03232800\",\"time\":\"1557731927.999464\",\"side\":\"b\",\"orderType\":\"l\",\"misc\":\"\"},{\"price\":\"7050.40000\",\"volume\":\"0.01616400\",\"time\":\"1557731929.550619\",\"side\":\"b\",\"orderType\":\"l\",\"misc\":\"\"},{\"price\":\"7055.50000\",\"volume\":\"0.06283244\",\"time\":\"1557731946.722202\",\"side\":\"b\",\"orderType\":\"l\",\"misc\":\"\"},{\"price\":\"7050.70000\",\"volume\":\"0.13973747\",\"time\":\"1557732000.949565\",\"side\":\"s\",\"orderType\":\"m\",\"misc\":\"\"},{\"price\":\"7050.70000\",\"volume\":\"0.00297497\",\"time\":\"1557732002.531900\",\"side\":\"s\",\"orderType\":\"m\",\"misc\":\"\"},{\"price\":\"7050.70000\",\"volume\":\"0.00429169\",\"time\":\"1557732003.828267\",\"side\":\"s\",\"orderType\":\"m\",\"misc\":\"\"},{\"price\":\"7050.70000\",\"volume\":\"0.04599587\",\"time\":\"1557732010.697968\",\"side\":\"s\",\"orderType\":\"l\",\"misc\":\"\"},{\"price\":\"7050.70000\",\"volume\":\"0.00100413\",\"time\":\"1557732010.707243\",\"side\":\"s\",\"orderType\":\"l\",\"misc\":\"\"},{\"price\":\"7047.10000\",\"volume\":\"0.07122000\",\"time\":\"1557732075.789061\",\"side\":\"b\",\"orderType\":\"l\",\"misc\":\"\"},{\"price\":\"7051.00000\",\"volume\":\"0.01949045\",\"time\":\"1557732100.054227\",\"side\":\"b\",\"orderType\":\"l\",\"misc\":\"\"},{\"price\":\"7047.40000\",\"volume\":\"0.80000000\",\"time\":\"1557732120.831166\",\"side\":\"s\",\"orderType\":\"m\",\"misc\":\"\"},{\"price\":\"7047.30000\",\"volume\":\"0.10850000\",\"time\":\"1557732120.835697\",\"side\":\"s\",\"orderType\":\"m\",\"misc\":\"\"},{\"price\":\"7047.20000\",\"volume\":\"0.19300000\",\"time\":\"1557732120.838980\",\"side\":\"s\",\"orderType\":\"m\",\"misc\":\"\"},{\"price\":\"7046.60000\",\"volume\":\"0.38598677\",\"time\":\"1557732120.842356\",\"side\":\"s\",\"orderType\":\"m\",\"misc\":\"\"},{\"price\":\"7046.60000\",\"volume\":\"0.51251323\",\"time\":\"1557732120.844970\",\"side\":\"s\",\"orderType\":\"m\",\"misc\":\"\"},{\"price\":\"7048.10000\",\"volume\":\"0.00030000\",\"time\":\"1557732143.565911\",\"side\":\"s\",\"orderType\":\"m\",\"misc\":\"\"},{\"price\":\"7053.00000\",\"volume\":\"0.00200000\",\"time\":\"1557732157.349554\",\"side\":\"b\",\"orderType\":\"l\",\"misc\":\"\"},{\"price\":\"7051.40000\",\"volume\":\"0.00030000\",\"time\":\"1557732194.413924\",\"side\":\"s\",\"orderType\":\"m\",\"misc\":\"\"},{\"price\":\"7051.40000\",\"volume\":\"0.00300000\",\"time\":\"1557732242.172138\",\"side\":\"s\",\"orderType\":\"m\",\"misc\":\"\"},{\"price\":\"7051.30000\",\"volume\":\"0.02127000\",\"time\":\"1557732242.179203\",\"side\":\"s\",\"orderType\":\"m\",\"misc\":\"\"},{\"price\":\"7051.30000\",\"volume\":\"0.11080000\",\"time\":\"1557732242.187396\",\"side\":\"s\",\"orderType\":\"m\",\"misc\":\"\"},{\"price\":\"7051.30000\",\"volume\":\"0.35600000\",\"time\":\"1557732242.193153\",\"side\":\"s\",\"orderType\":\"m\",\"misc\":\"\"},{\"price\":\"7050.70000\",\"volume\":\"0.19300000\",\"time\":\"1557732242.198834\",\"side\":\"s\",\"orderType\":\"m\",\"misc\":\"\"},{\"price\":\"7048.10000\",\"volume\":\"0.17193000\",\"time\":\"1557732242.205543\",\"side\":\"s\",\"orderType\":\"m\",\"misc\":\"\"},{\"price\":\"7051.60000\",\"volume\":\"0.01403962\",\"time\":\"1557732246.699388\",\"side\":\"b\",\"orderType\":\"l\",\"misc\":\"\"},{\"price\":\"7051.60000\",\"volume\":\"0.11861025\",\"time\":\"1557732246.706232\",\"side\":\"b\",\"orderType\":\"l\",\"misc\":\"\"},{\"price\":\"7051.60000\",\"volume\":\"0.05930513\",\"time\":\"1557732246.709749\",\"side\":\"b\",\"orderType\":\"l\",\"misc\":\"\"},{\"price\":\"7051.60000\",\"volume\":\"0.02965256\",\"time\":\"1557732246.713848\",\"side\":\"b\",\"orderType\":\"l\",\"misc\":\"\"},{\"price\":\"7051.60000\",\"volume\":\"0.01482628\",\"time\":\"1557732246.717724\",\"side\":\"b\",\"orderType\":\"l\",\"misc\":\"\"},{\"price\":\"7051.60000\",\"volume\":\"0.00741314\",\"time\":\"1557732246.721380\",\"side\":\"b\",\"orderType\":\"l\",\"misc\":\"\"},{\"price\":\"7051.60000\",\"volume\":\"0.25837106\",\"time\":\"1557732246.724709\",\"side\":\"b\",\"orderType\":\"l\",\"misc\":\"\"},{\"price\":\"7051.60000\",\"volume\":\"0.03944853\",\"time\":\"1557732246.728745\",\"side\":\"b\",\"orderType\":\"l\",\"misc\":\"\"},{\"price\":\"7051.60000\",\"volume\":\"0.01972427\",\"time\":\"1557732246.732325\",\"side\":\"b\",\"orderType\":\"l\",\"misc\":\"\"},{\"price\":\"7051.60000\",\"volume\":\"0.00986213\",\"time\":\"1557732246.735815\",\"side\":\"b\",\"orderType\":\"l\",\"misc\":\"\"},{\"price\":\"7051.60000\",\"volume\":\"0.00986213\",\"time\":\"1557732246.739223\",\"side\":\"b\",\"orderType\":\"l\",\"misc\":\"\"},{\"price\":\"7051.60000\",\"volume\":\"0.14224832\",\"time\":\"1557732246.742620\",\"side\":\"b\",\"orderType\":\"l\",\"misc\":\"\"},{\"price\":\"7051.70000\",\"volume\":\"0.04695204\",\"time\":\"1557732248.736943\",\"side\":\"b\",\"orderType\":\"l\",\"misc\":\"\"},{\"price\":\"7051.70000\",\"volume\":\"0.12589496\",\"time\":\"1557732248.745946\",\"side\":\"b\",\"orderType\":\"l\",\"misc\":\"\"},{\"price\":\"7051.70000\",\"volume\":\"0.06330540\",\"time\":\"1557732248.749779\",\"side\":\"b\",\"orderType\":\"l\",\"misc\":\"\"},{\"price\":\"7051.70000\",\"volume\":\"0.35027110\",\"time\":\"1557732248.753758\",\"side\":\"b\",\"orderType\":\"l\",\"misc\":\"\"},{\"price\":\"7051.70000\",\"volume\":\"0.25154595\",\"time\":\"1557732251.627009\",\"side\":\"b\",\"orderType\":\"l\",\"misc\":\"\"},{\"price\":\"7051.50000\",\"volume\":\"0.02517149\",\"time\":\"1557732253.394559\",\"side\":\"b\",\"orderType\":\"l\",\"misc\":\"\"},{\"price\":\"7051.70000\",\"volume\":\"0.10063703\",\"time\":\"1557732253.398207\",\"side\":\"b\",\"orderType\":\"l\",\"misc\":\"\"},{\"price\":\"7052.00000\",\"volume\":\"0.06404151\",\"time\":\"1557732257.348064\",\"side\":\"b\",\"orderType\":\"l\",\"misc\":\"\"},{\"price\":\"7052.00000\",\"volume\":\"0.03205629\",\"time\":\"1557732260.253115\",\"side\":\"b\",\"orderType\":\"l\",\"misc\":\"\"},{\"price\":\"7052.00000\",\"volume\":\"0.01606369\",\"time\":\"1557732263.271082\",\"side\":\"b\",\"orderType\":\"l\",\"misc\":\"\"},{\"price\":\"7051.90000\",\"volume\":\"0.00803184\",\"time\":\"1557732265.205154\",\"side\":\"b\",\"orderType\":\"l\",\"misc\":\"\"},{\"price\":\"7051.00000\",\"volume\":\"0.00030000\",\"time\":\"1557732274.199029\",\"side\":\"s\",\"orderType\":\"m\",\"misc\":\"\"},{\"price\":\"7051.10000\",\"volume\":\"0.00200000\",\"time\":\"1557732277.189204\",\"side\":\"b\",\"orderType\":\"l\",\"misc\":\"\"},{\"price\":\"7051.00000\",\"volume\":\"0.00030000\",\"time\":\"1557732293.190255\",\"side\":\"s\",\"orderType\":\"m\",\"misc\":\"\"},{\"price\":\"7051.10000\",\"volume\":\"0.14205000\",\"time\":\"1557732296.532280\",\"side\":\"b\",\"orderType\":\"l\",\"misc\":\"\"},{\"price\":\"7051.00000\",\"volume\":\"0.01814709\",\"time\":\"1557732303.873137\",\"side\":\"s\",\"orderType\":\"l\",\"misc\":\"\"},{\"price\":\"7051.10000\",\"volume\":\"0.01300000\",\"time\":\"1557732356.280879\",\"side\":\"s\",\"orderType\":\"l\",\"misc\":\"\"},{\"price\":\"7051.10000\",\"volume\":\"0.01300000\",\"time\":\"1557732356.297282\",\"side\":\"s\",\"orderType\":\"l\",\"misc\":\"\"},{\"price\":\"7053.50000\",\"volume\":\"0.07800000\",\"time\":\"1557732359.831372\",\"side\":\"b\",\"orderType\":\"m\",\"misc\":\"\"},{\"price\":\"7052.40000\",\"volume\":\"0.04000000\",\"time\":\"1557732380.520358\",\"side\":\"s\",\"orderType\":\"m\",\"misc\":\"\"},{\"price\":\"7052.40000\",\"volume\":\"0.08000000\",\"time\":\"1557732380.529963\",\"side\":\"s\",\"orderType\":\"m\",\"misc\":\"\"},{\"price\":\"7055.70000\",\"volume\":\"0.34800000\",\"time\":\"1557732482.322755\",\"side\":\"b\",\"orderType\":\"m\",\"misc\":\"\"},{\"price\":\"7055.70000\",\"volume\":\"0.04220000\",\"time\":\"1557732492.415126\",\"side\":\"b\",\"orderType\":\"m\",\"misc\":\"\"},{\"price\":\"7054.30000\",\"volume\":\"0.19300000\",\"time\":\"1557732510.491779\",\"side\":\"s\",\"orderType\":\"l\",\"misc\":\"\"},{\"price\":\"7051.10000\",\"volume\":\"0.00099933\",\"time\":\"1557732544.217152\",\"side\":\"s\",\"orderType\":\"l\",\"misc\":\"\"},{\"price\":\"7051.10000\",\"volume\":\"0.00000067\",\"time\":\"1557732544.226686\",\"side\":\"s\",\"orderType\":\"l\",\"misc\":\"\"},{\"price\":\"7051.00000\",\"volume\":\"0.05216291\",\"time\":\"1557732544.230337\",\"side\":\"s\",\"orderType\":\"l\",\"misc\":\"\"},{\"price\":\"7050.00000\",\"volume\":\"0.20000000\",\"time\":\"1557732553.229533\",\"side\":\"s\",\"orderType\":\"l\",\"misc\":\"\"},{\"price\":\"7050.00000\",\"volume\":\"0.50000000\",\"time\":\"1557732553.241970\",\"side\":\"s\",\"orderType\":\"l\",\"misc\":\"\"},{\"price\":\"7049.00000\",\"volume\":\"0.07460000\",\"time\":\"1557732553.252232\",\"side\":\"b\",\"orderType\":\"m\",\"misc\":\"\"},{\"price\":\"7047.30000\",\"volume\":\"0.00129479\",\"time\":\"1557732555.945020\",\"side\":\"s\",\"orderType\":\"l\",\"misc\":\"\"},{\"price\":\"7047.30000\",\"volume\":\"0.00070521\",\"time\":\"1557732555.998977\",\"side\":\"s\",\"orderType\":\"l\",\"misc\":\"\"},{\"price\":\"7047.00000\",\"volume\":\"0.06448825\",\"time\":\"1557732557.679887\",\"side\":\"s\",\"orderType\":\"l\",\"misc\":\"\"},{\"price\":\"7047.00000\",\"volume\":\"0.06448912\",\"time\":\"1557732564.018208\",\"side\":\"s\",\"orderType\":\"l\",\"misc\":\"\"},{\"price\":\"7047.00000\",\"volume\":\"0.04500000\",\"time\":\"1557732569.481099\",\"side\":\"s\",\"orderType\":\"m\",\"misc\":\"\"},{\"price\":\"7047.00000\",\"volume\":\"2.20000000\",\"time\":\"1557732569.498425\",\"side\":\"s\",\"orderType\":\"m\",\"misc\":\"\"},{\"price\":\"7047.00000\",\"volume\":\"1.41000000\",\"time\":\"1557732572.446368\",\"side\":\"s\",\"orderType\":\"m\",\"misc\":\"\"},{\"price\":\"7047.00000\",\"volume\":\"0.21000000\",\"time\":\"1557732585.960292\",\"side\":\"s\",\"orderType\":\"l\",\"misc\":\"\"},{\"price\":\"7047.00000\",\"volume\":\"0.00602263\",\"time\":\"1557732587.635158\",\"side\":\"s\",\"orderType\":\"l\",\"misc\":\"\"},{\"price\":\"7046.30000\",\"volume\":\"0.00880000\",\"time\":\"1557732594.911370\",\"side\":\"b\",\"orderType\":\"m\",\"misc\":\"\"},{\"price\":\"7045.00000\",\"volume\":\"0.20502833\",\"time\":\"1557732597.923121\",\"side\":\"s\",\"orderType\":\"l\",\"misc\":\"\"},{\"price\":\"7040.00000\",\"volume\":\"0.50000000\",\"time\":\"1557732616.145349\",\"side\":\"s\",\"orderType\":\"l\",\"misc\":\"\"},{\"price\":\"7040.00000\",\"volume\":\"0.04000000\",\"time\":\"1557732616.151745\",\"side\":\"s\",\"orderType\":\"l\",\"misc\":\"\"},{\"price\":\"7035.00000\",\"volume\":\"0.00213907\",\"time\":\"1557732649.210921\",\"side\":\"s\",\"orderType\":\"l\",\"misc\":\"\"},{\"price\":\"7035.00000\",\"volume\":\"0.02000000\",\"time\":\"1557732659.441406\",\"side\":\"s\",\"orderType\":\"m\",\"misc\":\"\"},{\"price\":\"7035.00000\",\"volume\":\"0.05000000\",\"time\":\"1557732660.871572\",\"side\":\"s\",\"orderType\":\"l\",\"misc\":\"\"},{\"price\":\"7035.00000\",\"volume\":\"0.37000000\",\"time\":\"1557732663.756362\",\"side\":\"s\",\"orderType\":\"l\",\"misc\":\"\"},{\"price\":\"7035.00000\",\"volume\":\"0.00554913\",\"time\":\"1557732675.907141\",\"side\":\"s\",\"orderType\":\"l\",\"misc\":\"\"},{\"price\":\"7037.40000\",\"volume\":\"0.81000000\",\"time\":\"1557732719.425529\",\"side\":\"b\",\"orderType\":\"m\",\"misc\":\"\"},{\"price\":\"7035.10000\",\"volume\":\"0.06400000\",\"time\":\"1557732722.591612\",\"side\":\"s\",\"orderType\":\"m\",\"misc\":\"\"},{\"price\":\"7035.10000\",\"volume\":\"0.03000000\",\"time\":\"1557732722.604448\",\"side\":\"s\",\"orderType\":\"m\",\"misc\":\"\"},{\"price\":\"7035.00000\",\"volume\":\"0.55231180\",\"time\":\"1557732747.810079\",\"side\":\"s\",\"orderType\":\"m\",\"misc\":\"\"},{\"price\":\"7035.00000\",\"volume\":\"0.02800000\",\"time\":\"1557732747.813960\",\"side\":\"s\",\"orderType\":\"m\",\"misc\":\"\"},{\"price\":\"7035.00000\",\"volume\":\"0.00000003\",\"time\":\"1557732747.816541\",\"side\":\"s\",\"orderType\":\"m\",\"misc\":\"\"},{\"price\":\"7033.10000\",\"volume\":\"0.19400000\",\"time\":\"1557732747.819666\",\"side\":\"s\",\"orderType\":\"m\",\"misc\":\"\"},{\"price\":\"7032.40000\",\"volume\":\"0.09930000\",\"time\":\"1557732747.837966\",\"side\":\"s\",\"orderType\":\"m\",\"misc\":\"\"},{\"price\":\"7031.20000\",\"volume\":\"0.12606041\",\"time\":\"1557732747.840674\",\"side\":\"s\",\"orderType\":\"m\",\"misc\":\"\"},{\"price\":\"7031.20000\",\"volume\":\"0.00032691\",\"time\":\"1557732747.842706\",\"side\":\"s\",\"orderType\":\"m\",\"misc\":\"\"},{\"price\":\"7031.20000\",\"volume\":\"0.00000085\",\"time\":\"1557732747.844684\",\"side\":\"s\",\"orderType\":\"m\",\"misc\":\"\"},{\"price\":\"7031.50000\",\"volume\":\"0.00020818\",\"time\":\"1557732756.763633\",\"side\":\"s\",\"orderType\":\"m\",\"misc\":\"\"},{\"price\":\"7031.50000\",\"volume\":\"0.00009182\",\"time\":\"1557732756.770315\",\"side\":\"s\",\"orderType\":\"m\",\"misc\":\"\"},{\"price\":\"7031.40000\",\"volume\":\"0.00030000\",\"time\":\"1557732763.568220\",\"side\":\"s\",\"orderType\":\"m\",\"misc\":\"\"},{\"price\":\"7031.30000\",\"volume\":\"0.22245653\",\"time\":\"1557732775.869988\",\"side\":\"b\",\"orderType\":\"m\",\"misc\":\"\"},{\"price\":\"7031.30000\",\"volume\":\"0.09300000\",\"time\":\"1557732775.877720\",\"side\":\"b\",\"orderType\":\"m\",\"misc\":\"\"},{\"price\":\"7031.60000\",\"volume\":\"0.04754347\",\"time\":\"1557732775.881715\",\"side\":\"b\",\"orderType\":\"m\",\"misc\":\"\"},{\"price\":\"7031.10000\",\"volume\":\"0.00300000\",\"time\":\"1557732783.649331\",\"side\":\"s\",\"orderType\":\"l\",\"misc\":\"\"},{\"price\":\"7030.00000\",\"volume\":\"0.39700000\",\"time\":\"1557732783.656904\",\"side\":\"s\",\"orderType\":\"l\",\"misc\":\"\"},{\"price\":\"7030.00000\",\"volume\":\"0.08650000\",\"time\":\"1557732784.612156\",\"side\":\"s\",\"orderType\":\"l\",\"misc\":\"\"},{\"price\":\"7030.00000\",\"volume\":\"0.51650000\",\"time\":\"1557732784.780314\",\"side\":\"s\",\"orderType\":\"l\",\"misc\":\"\"},{\"price\":\"7030.00000\",\"volume\":\"0.50000000\",\"time\":\"1557732784.784356\",\"side\":\"s\",\"orderType\":\"l\",\"misc\":\"\"},{\"price\":\"7030.00000\",\"volume\":\"0.02204561\",\"time\":\"1557732784.786780\",\"side\":\"s\",\"orderType\":\"l\",\"misc\":\"\"},{\"price\":\"7030.00000\",\"volume\":\"0.00900000\",\"time\":\"1557732784.789401\",\"side\":\"s\",\"orderType\":\"l\",\"misc\":\"\"},{\"price\":\"7030.00000\",\"volume\":\"1.05245439\",\"time\":\"1557732784.791662\",\"side\":\"s\",\"orderType\":\"l\",\"misc\":\"\"},{\"price\":\"7030.00000\",\"volume\":\"1.41650000\",\"time\":\"1557732786.701652\",\"side\":\"s\",\"orderType\":\"l\",\"misc\":\"\"},{\"price\":\"7030.00000\",\"volume\":\"0.03900000\",\"time\":\"1557732786.705180\",\"side\":\"s\",\"orderType\":\"l\",\"misc\":\"\"},{\"price\":\"7030.00000\",\"volume\":\"0.00720000\",\"time\":\"1557732786.707471\",\"side\":\"s\",\"orderType\":\"l\",\"misc\":\"\"},{\"price\":\"7030.00000\",\"volume\":\"0.00400000\",\"time\":\"1557732786.709939\",\"side\":\"s\",\"orderType\":\"l\",\"misc\":\"\"},{\"price\":\"7030.00000\",\"volume\":\"0.00400000\",\"time\":\"1557732786.712519\",\"side\":\"s\",\"orderType\":\"l\",\"misc\":\"\"},{\"price\":\"7030.00000\",\"volume\":\"0.00360000\",\"time\":\"1557732786.715020\",\"side\":\"s\",\"orderType\":\"l\",\"misc\":\"\"},{\"price\":\"7030.00000\",\"volume\":\"0.00260000\",\"time\":\"1557732786.717410\",\"side\":\"s\",\"orderType\":\"l\",\"misc\":\"\"},{\"price\":\"7030.00000\",\"volume\":\"0.70000000\",\"time\":\"1557732786.719981\",\"side\":\"s\",\"orderType\":\"l\",\"misc\":\"\"},{\"price\":\"7030.00000\",\"volume\":\"0.00230000\",\"time\":\"1557732786.722959\",\"side\":\"s\",\"orderType\":\"l\",\"misc\":\"\"},{\"price\":\"7030.00000\",\"volume\":\"1.00000000\",\"time\":\"1557732786.725347\",\"side\":\"s\",\"orderType\":\"l\",\"misc\":\"\"},{\"price\":\"7030.00000\",\"volume\":\"0.23730000\",\"time\":\"1557732786.727648\",\"side\":\"s\",\"orderType\":\"l\",\"misc\":\"\"},{\"price\":\"7030.00000\",\"volume\":\"0.50000000\",\"time\":\"1557732786.731422\",\"side\":\"s\",\"orderType\":\"l\",\"misc\":\"\"},{\"price\":\"7025.10000\",\"volume\":\"0.00300000\",\"time\":\"1557732798.167430\",\"side\":\"s\",\"orderType\":\"l\",\"misc\":\"\"},{\"price\":\"7025.10000\",\"volume\":\"0.56910314\",\"time\":\"1557732798.174070\",\"side\":\"s\",\"orderType\":\"l\",\"misc\":\"\"},{\"price\":\"7025.10000\",\"volume\":\"0.06639084\",\"time\":\"1557732798.177338\",\"side\":\"s\",\"orderType\":\"l\",\"misc\":\"\"},{\"price\":\"7025.10000\",\"volume\":\"0.36150602\",\"time\":\"1557732798.180877\",\"side\":\"s\",\"orderType\":\"l\",\"misc\":\"\"},{\"price\":\"7025.10000\",\"volume\":\"0.00300000\",\"time\":\"1557732798.279334\",\"side\":\"s\",\"orderType\":\"l\",\"misc\":\"\"},{\"price\":\"7025.00000\",\"volume\":\"0.16292849\",\"time\":\"1557732798.283699\",\"side\":\"s\",\"orderType\":\"l\",\"misc\":\"\"},{\"price\":\"7025.00000\",\"volume\":\"0.83407151\",\"time\":\"1557732798.287500\",\"side\":\"s\",\"orderType\":\"l\",\"misc\":\"\"},{\"price\":\"7025.00000\",\"volume\":\"0.00300000\",\"time\":\"1557732799.023398\",\"side\":\"s\",\"orderType\":\"l\",\"misc\":\"\"},{\"price\":\"7025.00000\",\"volume\":\"0.13855449\",\"time\":\"1557732799.030282\",\"side\":\"s\",\"orderType\":\"l\",\"misc\":\"\"},{\"price\":\"7025.00000\",\"volume\":\"0.63800000\",\"time\":\"1557732799.033892\",\"side\":\"s\",\"orderType\":\"l\",\"misc\":\"\"},{\"price\":\"7025.00000\",\"volume\":\"2.17044551\",\"time\":\"1557732799.037495\",\"side\":\"s\",\"orderType\":\"l\",\"misc\":\"\"},{\"price\":\"7025.00000\",\"volume\":\"0.19000000\",\"time\":\"1557732807.941565\",\"side\":\"s\",\"orderType\":\"l\",\"misc\":\"\"},{\"price\":\"7025.00000\",\"volume\":\"0.82990308\",\"time\":\"1557732812.744901\",\"side\":\"s\",\"orderType\":\"l\",\"misc\":\"\"},{\"price\":\"7025.00000\",\"volume\":\"0.29000000\",\"time\":\"1557732814.111184\",\"side\":\"s\",\"orderType\":\"l\",\"misc\":\"\"},{\"price\":\"7025.00000\",\"volume\":\"0.74309692\",\"time\":\"1557732816.023450\",\"side\":\"s\",\"orderType\":\"l\",\"misc\":\"\"},{\"price\":\"7024.00000\",\"volume\":\"0.50000000\",\"time\":\"1557732818.921847\",\"side\":\"s\",\"orderType\":\"m\",\"misc\":\"\"},{\"price\":\"7024.00000\",\"volume\":\"0.06000000\",\"time\":\"1557732831.701898\",\"side\":\"s\",\"orderType\":\"l\",\"misc\":\"\"},{\"price\":\"7024.00000\",\"volume\":\"0.06000000\",\"time\":\"1557732835.247475\",\"side\":\"s\",\"orderType\":\"l\",\"misc\":\"\"},{\"price\":\"7024.10000\",\"volume\":\"0.01212120\",\"time\":\"1557732839.780480\",\"side\":\"b\",\"orderType\":\"l\",\"misc\":\"\"},{\"price\":\"7024.10000\",\"volume\":\"0.01698696\",\"time\":\"1557732840.253807\",\"side\":\"b\",\"orderType\":\"l\",\"misc\":\"\"},{\"price\":\"7024.10000\",\"volume\":\"0.00720362\",\"time\":\"1557732843.715632\",\"side\":\"b\",\"orderType\":\"l\",\"misc\":\"\"},{\"price\":\"7024.00000\",\"volume\":\"0.38000000\",\"time\":\"1557732844.542144\",\"side\":\"s\",\"orderType\":\"m\",\"misc\":\"\"},{\"price\":\"7024.00000\",\"volume\":\"0.20000000\",\"time\":\"1557732844.549683\",\"side\":\"s\",\"orderType\":\"m\",\"misc\":\"\"},{\"price\":\"7024.00000\",\"volume\":\"1.00000000\",\"time\":\"1557732844.552822\",\"side\":\"s\",\"orderType\":\"m\",\"misc\":\"\"},{\"price\":\"7024.00000\",\"volume\":\"1.28523938\",\"time\":\"1557732844.555566\",\"side\":\"s\",\"orderType\":\"m\",\"misc\":\"\"},{\"price\":\"7024.00000\",\"volume\":\"0.00200000\",\"time\":\"1557732844.558092\",\"side\":\"s\",\"orderType\":\"m\",\"misc\":\"\"},{\"price\":\"7024.00000\",\"volume\":\"0.30000000\",\"time\":\"1557732844.560386\",\"side\":\"s\",\"orderType\":\"m\",\"misc\":\"\"},{\"price\":\"7024.00000\",\"volume\":\"0.00300000\",\"time\":\"1557732844.572993\",\"side\":\"s\",\"orderType\":\"m\",\"misc\":\"\"},{\"price\":\"7024.00000\",\"volume\":\"0.68618967\",\"time\":\"1557732844.575430\",\"side\":\"s\",\"orderType\":\"m\",\"misc\":\"\"},{\"price\":\"7024.00000\",\"volume\":\"0.34100000\",\"time\":\"1557732844.820456\",\"side\":\"s\",\"orderType\":\"m\",\"misc\":\"\"},{\"price\":\"7024.00000\",\"volume\":\"0.25047048\",\"time\":\"1557732844.823390\",\"side\":\"s\",\"orderType\":\"m\",\"misc\":\"\"},{\"price\":\"7024.00000\",\"volume\":\"0.55210047\",\"time\":\"1557732844.826005\",\"side\":\"s\",\"orderType\":\"m\",\"misc\":\"\"},{\"price\":\"7024.10000\",\"volume\":\"0.30000000\",\"time\":\"1557732853.489205\",\"side\":\"s\",\"orderType\":\"m\",\"misc\":\"\"},{\"price\":\"7024.00000\",\"volume\":\"0.30389953\",\"time\":\"1557732853.502845\",\"side\":\"s\",\"orderType\":\"m\",\"misc\":\"\"},{\"price\":\"7024.00000\",\"volume\":\"0.01300000\",\"time\":\"1557732853.505480\",\"side\":\"s\",\"orderType\":\"m\",\"misc\":\"\"},{\"price\":\"7024.00000\",\"volume\":\"0.18310047\",\"time\":\"1557732853.508450\",\"side\":\"s\",\"orderType\":\"m\",\"misc\":\"\"},{\"price\":\"7024.00000\",\"volume\":\"0.18000000\",\"time\":\"1557732853.511888\",\"side\":\"s\",\"orderType\":\"m\",\"misc\":\"\"},{\"price\":\"7024.00000\",\"volume\":\"0.62000000\",\"time\":\"1557732853.514602\",\"side\":\"s\",\"orderType\":\"m\",\"misc\":\"\"},{\"price\":\"7026.90000\",\"volume\":\"0.10080432\",\"time\":\"1557732867.741021\",\"side\":\"b\",\"orderType\":\"l\",\"misc\":\"\"},{\"price\":\"7026.90000\",\"volume\":\"0.00912460\",\"time\":\"1557732869.355869\",\"side\":\"b\",\"orderType\":\"l\",\"misc\":\"\"},{\"price\":\"7022.60000\",\"volume\":\"0.01500000\",\"time\":\"1557732904.565761\",\"side\":\"s\",\"orderType\":\"m\",\"misc\":\"\"},{\"price\":\"7023.20000\",\"volume\":\"0.05000000\",\"time\":\"1557732907.726039\",\"side\":\"b\",\"orderType\":\"m\",\"misc\":\"\"},{\"price\":\"7022.20000\",\"volume\":\"0.08010000\",\"time\":\"1557732917.854802\",\"side\":\"s\",\"orderType\":\"l\",\"misc\":\"\"},{\"price\":\"7021.10000\",\"volume\":\"0.00300000\",\"time\":\"1557732926.876557\",\"side\":\"s\",\"orderType\":\"l\",\"misc\":\"\"},{\"price\":\"7020.10000\",\"volume\":\"0.05000000\",\"time\":\"1557732934.119901\",\"side\":\"s\",\"orderType\":\"l\",\"misc\":\"\"},{\"price\":\"7021.30000\",\"volume\":\"0.20302475\",\"time\":\"1557732940.951076\",\"side\":\"b\",\"orderType\":\"l\",\"misc\":\"\"},{\"price\":\"7021.40000\",\"volume\":\"0.30000000\",\"time\":\"1557732940.957815\",\"side\":\"b\",\"orderType\":\"l\",\"misc\":\"\"},{\"price\":\"7021.60000\",\"volume\":\"1.00000000\",\"time\":\"1557732940.961334\",\"side\":\"b\",\"orderType\":\"l\",\"misc\":\"\"},{\"price\":\"7021.80000\",\"volume\":\"0.06100000\",\"time\":\"1557732940.965519\",\"side\":\"b\",\"orderType\":\"l\",\"misc\":\"\"},{\"price\":\"7023.10000\",\"volume\":\"0.02700000\",\"time\":\"1557732942.844141\",\"side\":\"b\",\"orderType\":\"m\",\"misc\":\"\"},{\"price\":\"7023.00000\",\"volume\":\"0.06470952\",\"time\":\"1557732943.196619\",\"side\":\"s\",\"orderType\":\"l\",\"misc\":\"\"},{\"price\":\"7023.00000\",\"volume\":\"0.05079545\",\"time\":\"1557732945.680086\",\"side\":\"s\",\"orderType\":\"l\",\"misc\":\"\"},{\"price\":\"7023.00000\",\"volume\":\"0.14000000\",\"time\":\"1557732955.313594\",\"side\":\"s\",\"orderType\":\"l\",\"misc\":\"\"},{\"price\":\"7023.10000\",\"volume\":\"0.00400000\",\"time\":\"1557732956.293614\",\"side\":\"b\",\"orderType\":\"l\",\"misc\":\"\"},{\"price\":\"7023.00000\",\"volume\":\"0.00692943\",\"time\":\"1557732961.335659\",\"side\":\"s\",\"orderType\":\"l\",\"misc\":\"\"},{\"price\":\"7023.00000\",\"volume\":\"0.06470952\",\"time\":\"1557732967.229163\",\"side\":\"s\",\"orderType\":\"l\",\"misc\":\"\"},{\"price\":\"7023.00000\",\"volume\":\"0.07708608\",\"time\":\"1557732973.888908\",\"side\":\"s\",\"orderType\":\"l\",\"misc\":\"\"},{\"price\":\"7023.10000\",\"volume\":\"0.54500001\",\"time\":\"1557732978.354861\",\"side\":\"b\",\"orderType\":\"l\",\"misc\":\"\"},{\"price\":\"7023.10000\",\"volume\":\"0.22277788\",\"time\":\"1557732978.366264\",\"side\":\"b\",\"orderType\":\"l\",\"misc\":\"\"},{\"price\":\"7023.10000\",\"volume\":\"0.04500000\",\"time\":\"1557732978.369498\",\"side\":\"b\",\"orderType\":\"l\",\"misc\":\"\"},{\"price\":\"7023.10000\",\"volume\":\"1.00000000\",\"time\":\"1557732978.372167\",\"side\":\"b\",\"orderType\":\"l\",\"misc\":\"\"},{\"price\":\"7023.40000\",\"volume\":\"0.18722211\",\"time\":\"1557732978.374852\",\"side\":\"b\",\"orderType\":\"l\",\"misc\":\"\"},{\"price\":\"7023.00000\",\"volume\":\"0.03174525\",\"time\":\"1557732982.369070\",\"side\":\"s\",\"orderType\":\"l\",\"misc\":\"\"},{\"price\":\"7023.10000\",\"volume\":\"0.01534703\",\"time\":\"1557732987.682943\",\"side\":\"b\",\"orderType\":\"l\",\"misc\":\"\"},{\"price\":\"7023.10000\",\"volume\":\"0.01534653\",\"time\":\"1557732987.922482\",\"side\":\"b\",\"orderType\":\"l\",\"misc\":\"\"},{\"price\":\"7023.10000\",\"volume\":\"0.02840186\",\"time\":\"1557732988.528277\",\"side\":\"b\",\"orderType\":\"l\",\"misc\":\"\"},{\"price\":\"7020.60000\",\"volume\":\"0.00200000\",\"time\":\"1557732992.847602\",\"side\":\"b\",\"orderType\":\"l\",\"misc\":\"\"},{\"price\":\"7023.00000\",\"volume\":\"0.00200000\",\"time\":\"1557732992.854158\",\"side\":\"b\",\"orderType\":\"l\",\"misc\":\"\"},{\"price\":\"7025.50000\",\"volume\":\"0.00907200\",\"time\":\"1557733018.307596\",\"side\":\"b\",\"orderType\":\"m\",\"misc\":\"\"},{\"price\":\"7025.40000\",\"volume\":\"0.00100000\",\"time\":\"1557733024.037515\",\"side\":\"b\",\"orderType\":\"m\",\"misc\":\"\"},{\"price\":\"7025.00000\",\"volume\":\"1.00000000\",\"time\":\"1557733032.152763\",\"side\":\"b\",\"orderType\":\"l\",\"misc\":\"\"},{\"price\":\"7029.10000\",\"volume\":\"0.53894604\",\"time\":\"1557733049.810319\",\"side\":\"b\",\"orderType\":\"l\",\"misc\":\"\"},{\"price\":\"7029.10000\",\"volume\":\"0.11323506\",\"time\":\"1557733052.508475\",\"side\":\"b\",\"orderType\":\"l\",\"misc\":\"\"},{\"price\":\"7029.10000\",\"volume\":\"0.04755978\",\"time\":\"1557733052.513136\",\"side\":\"b\",\"orderType\":\"l\",\"misc\":\"\"},{\"price\":\"7029.10000\",\"volume\":\"0.09267818\",\"time\":\"1557733052.517479\",\"side\":\"b\",\"orderType\":\"l\",\"misc\":\"\"},{\"price\":\"7030.20000\",\"volume\":\"0.04400000\",\"time\":\"1557733068.263069\",\"side\":\"s\",\"orderType\":\"l\",\"misc\":\"\"},{\"price\":\"7030.20000\",\"volume\":\"0.04660000\",\"time\":\"1557733069.356298\",\"side\":\"s\",\"orderType\":\"l\",\"misc\":\"\"},{\"price\":\"7030.00000\",\"volume\":\"0.14840000\",\"time\":\"1557733069.362440\",\"side\":\"s\",\"orderType\":\"l\",\"misc\":\"\"},{\"price\":\"7030.00000\",\"volume\":\"0.01678633\",\"time\":\"1557733070.491266\",\"side\":\"s\",\"orderType\":\"l\",\"misc\":\"\"},{\"price\":\"7028.40000\",\"volume\":\"0.00700000\",\"time\":\"1557733078.787812\",\"side\":\"s\",\"orderType\":\"l\",\"misc\":\"\"},{\"price\":\"7030.00000\",\"volume\":\"0.06464509\",\"time\":\"1557733086.815199\",\"side\":\"s\",\"orderType\":\"l\",\"misc\":\"\"},{\"price\":\"7030.00000\",\"volume\":\"0.08000000\",\"time\":\"1557733096.494183\",\"side\":\"s\",\"orderType\":\"l\",\"misc\":\"\"},{\"price\":\"7030.00000\",\"volume\":\"0.06464509\",\"time\":\"1557733103.012782\",\"side\":\"s\",\"orderType\":\"l\",\"misc\":\"\"},{\"price\":\"7030.00000\",\"volume\":\"0.01500000\",\"time\":\"1557733126.893543\",\"side\":\"s\",\"orderType\":\"l\",\"misc\":\"\"},{\"price\":\"7030.00000\",\"volume\":\"0.00511525\",\"time\":\"1557733159.328744\",\"side\":\"s\",\"orderType\":\"l\",\"misc\":\"\"},{\"price\":\"7030.00000\",\"volume\":\"0.07440654\",\"time\":\"1557733172.891972\",\"side\":\"s\",\"orderType\":\"m\",\"misc\":\"\"},{\"price\":\"7030.00000\",\"volume\":\"0.00018346\",\"time\":\"1557733172.904378\",\"side\":\"s\",\"orderType\":\"m\",\"misc\":\"\"},{\"price\":\"7030.00000\",\"volume\":\"0.04900457\",\"time\":\"1557733181.257355\",\"side\":\"s\",\"orderType\":\"l\",\"misc\":\"\"},{\"price\":\"7029.50000\",\"volume\":\"0.01564156\",\"time\":\"1557733181.261540\",\"side\":\"s\",\"orderType\":\"l\",\"misc\":\"\"},{\"price\":\"7029.50000\",\"volume\":\"0.02676800\",\"time\":\"1557733184.261646\",\"side\":\"s\",\"orderType\":\"l\",\"misc\":\"\"},{\"price\":\"7033.30000\",\"volume\":\"0.00600000\",\"time\":\"1557733258.532940\",\"side\":\"b\",\"orderType\":\"l\",\"misc\":\"\"},{\"price\":\"7029.60000\",\"volume\":\"0.01673965\",\"time\":\"1557733283.759803\",\"side\":\"s\",\"orderType\":\"l\",\"misc\":\"\"},{\"price\":\"7029.60000\",\"volume\":\"0.00900000\",\"time\":\"1557733340.103058\",\"side\":\"s\",\"orderType\":\"l\",\"misc\":\"\"},{\"price\":\"7029.60000\",\"volume\":\"0.01800000\",\"time\":\"1557733345.396805\",\"side\":\"s\",\"orderType\":\"l\",\"misc\":\"\"},{\"price\":\"7022.70000\",\"volume\":\"0.02875600\",\"time\":\"1557733366.407434\",\"side\":\"s\",\"orderType\":\"m\",\"misc\":\"\"},{\"price\":\"7022.70000\",\"volume\":\"0.00425319\",\"time\":\"1557733371.874929\",\"side\":\"s\",\"orderType\":\"m\",\"misc\":\"\"},{\"price\":\"7020.00000\",\"volume\":\"0.05574681\",\"time\":\"1557733371.894334\",\"side\":\"s\",\"orderType\":\"m\",\"misc\":\"\"},{\"price\":\"7021.80000\",\"volume\":\"0.22595744\",\"time\":\"1557733376.888314\",\"side\":\"b\",\"orderType\":\"l\",\"misc\":\"\"},{\"price\":\"7021.90000\",\"volume\":\"0.03400000\",\"time\":\"1557733376.892992\",\"side\":\"b\",\"orderType\":\"l\",\"misc\":\"\"},{\"price\":\"7022.00000\",\"volume\":\"0.08604256\",\"time\":\"1557733376.898639\",\"side\":\"b\",\"orderType\":\"l\",\"misc\":\"\"},{\"price\":\"7020.10000\",\"volume\":\"0.01400000\",\"time\":\"1557733410.637495\",\"side\":\"b\",\"orderType\":\"l\",\"misc\":\"\"},{\"price\":\"7020.00000\",\"volume\":\"0.00129479\",\"time\":\"1557733416.819564\",\"side\":\"s\",\"orderType\":\"l\",\"misc\":\"\"},{\"price\":\"7020.00000\",\"volume\":\"0.00070521\",\"time\":\"1557733416.824042\",\"side\":\"s\",\"orderType\":\"l\",\"misc\":\"\"},{\"price\":\"7020.00000\",\"volume\":\"0.94225319\",\"time\":\"1557733421.857616\",\"side\":\"s\",\"orderType\":\"l\",\"misc\":\"\"},{\"price\":\"7020.00000\",\"volume\":\"0.50000000\",\"time\":\"1557733421.877325\",\"side\":\"s\",\"orderType\":\"l\",\"misc\":\"\"},{\"price\":\"7019.50000\",\"volume\":\"0.00260000\",\"time\":\"1557733421.961559\",\"side\":\"s\",\"orderType\":\"l\",\"misc\":\"\"},{\"price\":\"7015.00000\",\"volume\":\"0.04468364\",\"time\":\"1557733428.099531\",\"side\":\"s\",\"orderType\":\"l\",\"misc\":\"\"},{\"price\":\"7015.00000\",\"volume\":\"0.95531636\",\"time\":\"1557733428.107509\",\"side\":\"s\",\"orderType\":\"m\",\"misc\":\"\"},{\"price\":\"7014.30000\",\"volume\":\"0.15700000\",\"time\":\"1557733428.111112\",\"side\":\"s\",\"orderType\":\"m\",\"misc\":\"\"},{\"price\":\"7014.20000\",\"volume\":\"0.00200000\",\"time\":\"1557733428.114614\",\"side\":\"s\",\"orderType\":\"m\",\"misc\":\"\"},{\"price\":\"7014.20000\",\"volume\":\"0.00300000\",\"time\":\"1557733428.117003\",\"side\":\"s\",\"orderType\":\"m\",\"misc\":\"\"},{\"price\":\"7014.00000\",\"volume\":\"0.88268364\",\"time\":\"1557733428.120716\",\"side\":\"s\",\"orderType\":\"m\",\"misc\":\"\"},{\"price\":\"7014.40000\",\"volume\":\"0.06500000\",\"time\":\"1557733438.316741\",\"side\":\"b\",\"orderType\":\"l\",\"misc\":\"\"},{\"price\":\"7015.10000\",\"volume\":\"0.15558633\",\"time\":\"1557733438.365646\",\"side\":\"b\",\"orderType\":\"l\",\"misc\":\"\"},{\"price\":\"7015.50000\",\"volume\":\"0.12732813\",\"time\":\"1557733445.150412\",\"side\":\"b\",\"orderType\":\"l\",\"misc\":\"\"},{\"price\":\"7014.00000\",\"volume\":\"0.11731636\",\"time\":\"1557733488.801544\",\"side\":\"s\",\"orderType\":\"l\",\"misc\":\"\"},{\"price\":\"7011.90000\",\"volume\":\"0.02152155\",\"time\":\"1557733488.805701\",\"side\":\"s\",\"orderType\":\"l\",\"misc\":\"\"},{\"price\":\"7011.70000\",\"volume\":\"0.00320851\",\"time\":\"1557733488.808954\",\"side\":\"s\",\"orderType\":\"l\",\"misc\":\"\"},{\"price\":\"7011.10000\",\"volume\":\"0.00300000\",\"time\":\"1557733488.812005\",\"side\":\"s\",\"orderType\":\"l\",\"misc\":\"\"},{\"price\":\"7010.20000\",\"volume\":\"0.00217927\",\"time\":\"1557733488.814386\",\"side\":\"s\",\"orderType\":\"l\",\"misc\":\"\"},{\"price\":\"7010.00000\",\"volume\":\"0.01870280\",\"time\":\"1557733488.817797\",\"side\":\"s\",\"orderType\":\"l\",\"misc\":\"\"},{\"price\":\"7010.00000\",\"volume\":\"0.83407151\",\"time\":\"1557733488.821452\",\"side\":\"s\",\"orderType\":\"l\",\"misc\":\"\"},{\"price\":\"7010.00000\",\"volume\":\"0.14722569\",\"time\":\"1557733488.836011\",\"side\":\"s\",\"orderType\":\"m\",\"misc\":\"\"},{\"price\":\"7010.00000\",\"volume\":\"0.12390542\",\"time\":\"1557733488.840177\",\"side\":\"s\",\"orderType\":\"m\",\"misc\":\"\"},{\"price\":\"7010.00000\",\"volume\":\"0.00070311\",\"time\":\"1557733488.843981\",\"side\":\"s\",\"orderType\":\"m\",\"misc\":\"\"},{\"price\":\"7010.00000\",\"volume\":\"0.00000179\",\"time\":\"1557733488.847631\",\"side\":\"s\",\"orderType\":\"m\",\"misc\":\"\"},{\"price\":\"7010.00000\",\"volume\":\"0.37538968\",\"time\":\"1557733488.850969\",\"side\":\"s\",\"orderType\":\"m\",\"misc\":\"\"},{\"price\":\"7008.90000\",\"volume\":\"0.03570959\",\"time\":\"1557733488.853793\",\"side\":\"s\",\"orderType\":\"m\",\"misc\":\"\"},{\"price\":\"7008.90000\",\"volume\":\"0.00090073\",\"time\":\"1557733488.857345\",\"side\":\"s\",\"orderType\":\"m\",\"misc\":\"\"},{\"price\":\"7008.90000\",\"volume\":\"0.04788968\",\"time\":\"1557733488.860699\",\"side\":\"s\",\"orderType\":\"m\",\"misc\":\"\"},{\"price\":\"7008.50000\",\"volume\":\"0.51628878\",\"time\":\"1557733488.863377\",\"side\":\"s\",\"orderType\":\"m\",\"misc\":\"\"},{\"price\":\"7008.50000\",\"volume\":\"0.75198553\",\"time\":\"1557733488.866667\",\"side\":\"s\",\"orderType\":\"m\",\"misc\":\"\"},{\"price\":\"7008.50000\",\"volume\":\"0.40000000\",\"time\":\"1557733488.871956\",\"side\":\"s\",\"orderType\":\"m\",\"misc\":\"\"},{\"price\":\"7008.50000\",\"volume\":\"0.00800000\",\"time\":\"1557733488.875455\",\"side\":\"s\",\"orderType\":\"m\",\"misc\":\"\"},{\"price\":\"7008.50000\",\"volume\":\"0.29200000\",\"time\":\"1557733488.878842\",\"side\":\"s\",\"orderType\":\"m\",\"misc\":\"\"},{\"price\":\"7008.30000\",\"volume\":\"0.19000000\",\"time\":\"1557733489.910201\",\"side\":\"s\",\"orderType\":\"l\",\"misc\":\"\"},{\"price\":\"7008.30000\",\"volume\":\"0.00500000\",\"time\":\"1557733489.928294\",\"side\":\"s\",\"orderType\":\"l\",\"misc\":\"\"},{\"price\":\"7006.80000\",\"volume\":\"0.80000000\",\"time\":\"1557733489.931978\",\"side\":\"s\",\"orderType\":\"l\",\"misc\":\"\"},{\"price\":\"7006.70000\",\"volume\":\"0.02886025\",\"time\":\"1557733489.936122\",\"side\":\"s\",\"orderType\":\"l\",\"misc\":\"\"},{\"price\":\"7005.60000\",\"volume\":\"0.41300000\",\"time\":\"1557733489.939848\",\"side\":\"s\",\"orderType\":\"l\",\"misc\":\"\"},{\"price\":\"7005.50000\",\"volume\":\"0.35000000\",\"time\":\"1557733489.942759\",\"side\":\"s\",\"orderType\":\"l\",\"misc\":\"\"},{\"price\":\"7005.00000\",\"volume\":\"1.00000000\",\"time\":\"1557733489.946422\",\"side\":\"s\",\"orderType\":\"l\",\"misc\":\"\"},{\"price\":\"7004.80000\",\"volume\":\"0.19500000\",\"time\":\"1557733489.949666\",\"side\":\"s\",\"orderType\":\"l\",\"misc\":\"\"},{\"price\":\"7003.80000\",\"volume\":\"0.16000000\",\"time\":\"1557733489.952992\",\"side\":\"s\",\"orderType\":\"l\",\"misc\":\"\"},{\"price\":\"7002.90000\",\"volume\":\"1.00000000\",\"time\":\"1557733489.956152\",\"side\":\"s\",\"orderType\":\"l\",\"misc\":\"\"},{\"price\":\"7001.80000\",\"volume\":\"0.00381863\",\"time\":\"1557733489.959660\",\"side\":\"s\",\"orderType\":\"l\",\"misc\":\"\"},{\"price\":\"7001.30000\",\"volume\":\"0.19500000\",\"time\":\"1557733489.963106\",\"side\":\"s\",\"orderType\":\"l\",\"misc\":\"\"},{\"price\":\"7001.10000\",\"volume\":\"0.00300000\",\"time\":\"1557733489.966645\",\"side\":\"s\",\"orderType\":\"l\",\"misc\":\"\"},{\"price\":\"7001.00000\",\"volume\":\"0.42415476\",\"time\":\"1557733489.970698\",\"side\":\"s\",\"orderType\":\"l\",\"misc\":\"\"},{\"price\":\"7000.80000\",\"volume\":\"0.42216636\",\"time\":\"1557733489.974176\",\"side\":\"s\",\"orderType\":\"l\",\"misc\":\"\"},{\"price\":\"7000.00000\",\"volume\":\"0.02200000\",\"time\":\"1557733509.749936\",\"side\":\"s\",\"orderType\":\"l\",\"misc\":\"\"},{\"price\":\"7000.00000\",\"volume\":\"0.12168362\",\"time\":\"1557733509.771662\",\"side\":\"s\",\"orderType\":\"m\",\"misc\":\"\"},{\"price\":\"7000.00000\",\"volume\":\"0.00031556\",\"time\":\"1557733509.774399\",\"side\":\"s\",\"orderType\":\"m\",\"misc\":\"\"},{\"price\":\"7000.00000\",\"volume\":\"0.00000082\",\"time\":\"1557733509.776443\",\"side\":\"s\",\"orderType\":\"m\",\"misc\":\"\"},{\"price\":\"7000.00000\",\"volume\":\"1.00000000\",\"time\":\"1557733509.783337\",\"side\":\"s\",\"orderType\":\"m\",\"misc\":\"\"},{\"price\":\"7000.00000\",\"volume\":\"0.00320974\",\"time\":\"1557733509.838746\",\"side\":\"s\",\"orderType\":\"m\",\"misc\":\"\"},{\"price\":\"7000.00000\",\"volume\":\"0.00000026\",\"time\":\"1557733509.841601\",\"side\":\"s\",\"orderType\":\"m\",\"misc\":\"\"},{\"price\":\"7004.60000\",\"volume\":\"0.04800000\",\"time\":\"1557733518.250906\",\"side\":\"b\",\"orderType\":\"l\",\"misc\":\"\"},{\"price\":\"7004.70000\",\"volume\":\"0.20600000\",\"time\":\"1557733518.255882\",\"side\":\"b\",\"orderType\":\"l\",\"misc\":\"\"},{\"price\":\"7005.00000\",\"volume\":\"0.09655000\",\"time\":\"1557733518.320615\",\"side\":\"s\",\"orderType\":\"m\",\"misc\":\"\"},{\"price\":\"7005.10000\",\"volume\":\"0.05000000\",\"time\":\"1557733520.466881\",\"side\":\"s\",\"orderType\":\"m\",\"misc\":\"\"},{\"price\":\"7008.50000\",\"volume\":\"0.06150000\",\"time\":\"1557733530.940014\",\"side\":\"b\",\"orderType\":\"l\",\"misc\":\"\"},{\"price\":\"7008.50000\",\"volume\":\"0.00200000\",\"time\":\"1557733531.064908\",\"side\":\"b\",\"orderType\":\"l\",\"misc\":\"\"},{\"price\":\"7008.60000\",\"volume\":\"0.07148392\",\"time\":\"1557733538.282269\",\"side\":\"b\",\"orderType\":\"l\",\"misc\":\"\"},{\"price\":\"7009.60000\",\"volume\":\"0.00930272\",\"time\":\"1557733540.223470\",\"side\":\"s\",\"orderType\":\"l\",\"misc\":\"\"},{\"price\":\"7009.60000\",\"volume\":\"0.00001728\",\"time\":\"1557733540.229278\",\"side\":\"s\",\"orderType\":\"l\",\"misc\":\"\"},{\"price\":\"7011.70000\",\"volume\":\"0.01400000\",\"time\":\"1557733544.403643\",\"side\":\"s\",\"orderType\":\"l\",\"misc\":\"\"},{\"price\":\"7016.90000\",\"volume\":\"0.00059111\",\"time\":\"1557733547.872286\",\"side\":\"b\",\"orderType\":\"l\",\"misc\":\"\"},{\"price\":\"7016.90000\",\"volume\":\"0.00000008\",\"time\":\"1557733547.878428\",\"side\":\"b\",\"orderType\":\"l\",\"misc\":\"\"},{\"price\":\"7024.40000\",\"volume\":\"0.00270000\",\"time\":\"1557733565.718350\",\"side\":\"s\",\"orderType\":\"l\",\"misc\":\"\"},{\"price\":\"7020.00000\",\"volume\":\"0.00430000\",\"time\":\"1557733571.105009\",\"side\":\"s\",\"orderType\":\"l\",\"misc\":\"\"},{\"price\":\"7023.60000\",\"volume\":\"0.00200000\",\"time\":\"1557733577.852651\",\"side\":\"s\",\"orderType\":\"l\",\"misc\":\"\"},{\"price\":\"7022.00000\",\"volume\":\"0.00270000\",\"time\":\"1557733577.864297\",\"side\":\"s\",\"orderType\":\"l\",\"misc\":\"\"},{\"price\":\"7020.10000\",\"volume\":\"0.22600300\",\"time\":\"1557733594.998679\",\"side\":\"b\",\"orderType\":\"m\",\"misc\":\"\"},{\"price\":\"7020.20000\",\"volume\":\"0.18310047\",\"time\":\"1557733595.002944\",\"side\":\"b\",\"orderType\":\"m\",\"misc\":\"\"},{\"price\":\"7020.20000\",\"volume\":\"0.18000000\",\"time\":\"1557733595.005291\",\"side\":\"b\",\"orderType\":\"m\",\"misc\":\"\"},{\"price\":\"7020.20000\",\"volume\":\"0.21089653\",\"time\":\"1557733595.007557\",\"side\":\"b\",\"orderType\":\"m\",\"misc\":\"\"},{\"price\":\"7020.20000\",\"volume\":\"0.40910347\",\"time\":\"1557733595.010600\",\"side\":\"b\",\"orderType\":\"m\",\"misc\":\"\"},{\"price\":\"7020.20000\",\"volume\":\"0.39089653\",\"time\":\"1557733595.012888\",\"side\":\"b\",\"orderType\":\"m\",\"misc\":\"\"},{\"price\":\"7015.80000\",\"volume\":\"0.15000000\",\"time\":\"1557733598.428895\",\"side\":\"s\",\"orderType\":\"m\",\"misc\":\"\"},{\"price\":\"7020.30000\",\"volume\":\"0.00230000\",\"time\":\"1557733608.448366\",\"side\":\"s\",\"orderType\":\"l\",\"misc\":\"\"},{\"price\":\"7024.40000\",\"volume\":\"0.20000000\",\"time\":\"1557733611.058668\",\"side\":\"b\",\"orderType\":\"m\",\"misc\":\"\"},{\"price\":\"7021.80000\",\"volume\":\"0.00260000\",\"time\":\"1557733616.559179\",\"side\":\"s\",\"orderType\":\"l\",\"misc\":\"\"},{\"price\":\"7021.90000\",\"volume\":\"0.00250000\",\"time\":\"1557733624.904624\",\"side\":\"s\",\"orderType\":\"l\",\"misc\":\"\"},{\"price\":\"7022.10000\",\"volume\":\"0.00710000\",\"time\":\"1557733631.330739\",\"side\":\"s\",\"orderType\":\"l\",\"misc\":\"\"},{\"price\":\"7022.70000\",\"volume\":\"0.00136550\",\"time\":\"1557733637.156783\",\"side\":\"s\",\"orderType\":\"l\",\"misc\":\"\"},{\"price\":\"7022.70000\",\"volume\":\"0.00343450\",\"time\":\"1557733637.159349\",\"side\":\"s\",\"orderType\":\"l\",\"misc\":\"\"},{\"price\":\"7022.80000\",\"volume\":\"0.00280000\",\"time\":\"1557733645.518096\",\"side\":\"s\",\"orderType\":\"l\",\"misc\":\"\"},{\"price\":\"7022.80000\",\"volume\":\"0.03000000\",\"time\":\"1557733645.663159\",\"side\":\"s\",\"orderType\":\"m\",\"misc\":\"\"},{\"price\":\"7026.00000\",\"volume\":\"0.25710171\",\"time\":\"1557733646.370169\",\"side\":\"b\",\"orderType\":\"l\",\"misc\":\"\"},{\"price\":\"7026.00000\",\"volume\":\"0.15111006\",\"time\":\"1557733646.376054\",\"side\":\"b\",\"orderType\":\"l\",\"misc\":\"\"},{\"price\":\"7026.00000\",\"volume\":\"0.07555503\",\"time\":\"1557733646.379209\",\"side\":\"b\",\"orderType\":\"l\",\"misc\":\"\"},{\"price\":\"7026.00000\",\"volume\":\"0.03777751\",\"time\":\"1557733646.382286\",\"side\":\"b\",\"orderType\":\"l\",\"misc\":\"\"},{\"price\":\"7026.00000\",\"volume\":\"0.05455859\",\"time\":\"1557733646.385419\",\"side\":\"b\",\"orderType\":\"l\",\"misc\":\"\"},{\"price\":\"7026.00000\",\"volume\":\"0.02727929\",\"time\":\"1557733646.388538\",\"side\":\"b\",\"orderType\":\"l\",\"misc\":\"\"},{\"price\":\"7026.00000\",\"volume\":\"0.01363965\",\"time\":\"1557733646.391790\",\"side\":\"b\",\"orderType\":\"l\",\"misc\":\"\"},{\"price\":\"7026.00000\",\"volume\":\"0.00681982\",\"time\":\"1557733646.394930\",\"side\":\"b\",\"orderType\":\"l\",\"misc\":\"\"},{\"price\":\"7026.00000\",\"volume\":\"0.00840991\",\"time\":\"1557733646.397963\",\"side\":\"b\",\"orderType\":\"l\",\"misc\":\"\"},{\"price\":\"7026.00000\",\"volume\":\"0.01754763\",\"time\":\"1557733646.401094\",\"side\":\"b\",\"orderType\":\"l\",\"misc\":\"\"},{\"price\":\"7026.00000\",\"volume\":\"0.02831368\",\"time\":\"1557733646.404519\",\"side\":\"b\",\"orderType\":\"l\",\"misc\":\"\"},{\"price\":\"7026.00000\",\"volume\":\"0.01415684\",\"time\":\"1557733646.407838\",\"side\":\"b\",\"orderType\":\"l\",\"misc\":\"\"},{\"price\":\"7026.00000\",\"volume\":\"0.00707842\",\"time\":\"1557733646.410852\",\"side\":\"b\",\"orderType\":\"l\",\"misc\":\"\"},{\"price\":\"7026.00000\",\"volume\":\"0.34920841\",\"time\":\"1557733646.413951\",\"side\":\"b\",\"orderType\":\"l\",\"misc\":\"\"},{\"price\":\"7023.00000\",\"volume\":\"0.00410000\",\"time\":\"1557733651.851527\",\"side\":\"s\",\"orderType\":\"l\",\"misc\":\"\"},{\"price\":\"7023.70000\",\"volume\":\"0.00230000\",\"time\":\"1557733657.457452\",\"side\":\"s\",\"orderType\":\"l\",\"misc\":\"\"},{\"price\":\"7028.10000\",\"volume\":\"0.00420000\",\"time\":\"1557733663.738096\",\"side\":\"s\",\"orderType\":\"l\",\"misc\":\"\"},{\"price\":\"7028.10000\",\"volume\":\"0.03100000\",\"time\":\"1557733667.200042\",\"side\":\"s\",\"orderType\":\"m\",\"misc\":\"\"},{\"price\":\"7028.30000\",\"volume\":\"0.00760000\",\"time\":\"1557733670.009820\",\"side\":\"s\",\"orderType\":\"l\",\"misc\":\"\"},{\"price\":\"7029.50000\",\"volume\":\"0.36150602\",\"time\":\"1557733675.192968\",\"side\":\"b\",\"orderType\":\"l\",\"misc\":\"\"},{\"price\":\"7029.50000\",\"volume\":\"0.63849398\",\"time\":\"1557733675.199968\",\"side\":\"b\",\"orderType\":\"l\",\"misc\":\"\"},{\"price\":\"7029.50000\",\"volume\":\"0.00200000\",\"time\":\"1557733675.219944\",\"side\":\"b\",\"orderType\":\"l\",\"misc\":\"\"},{\"price\":\"7029.50000\",\"volume\":\"0.04468745\",\"time\":\"1557733675.242937\",\"side\":\"b\",\"orderType\":\"l\",\"misc\":\"\"},{\"price\":\"7029.60000\",\"volume\":\"0.20600000\",\"time\":\"1557733675.246509\",\"side\":\"b\",\"orderType\":\"l\",\"misc\":\"\"},{\"price\":\"7030.00000\",\"volume\":\"1.00000000\",\"time\":\"1557733675.250534\",\"side\":\"b\",\"orderType\":\"l\",\"misc\":\"\"},{\"price\":\"7031.20000\",\"volume\":\"0.07132510\",\"time\":\"1557733675.253301\",\"side\":\"b\",\"orderType\":\"l\",\"misc\":\"\"},{\"price\":\"7032.00000\",\"volume\":\"0.79893296\",\"time\":\"1557733675.256230\",\"side\":\"b\",\"orderType\":\"l\",\"misc\":\"\"},{\"price\":\"7032.00000\",\"volume\":\"0.20106704\",\"time\":\"1557733675.259392\",\"side\":\"b\",\"orderType\":\"l\",\"misc\":\"\"},{\"price\":\"7030.60000\",\"volume\":\"0.00410000\",\"time\":\"1557733675.561016\",\"side\":\"s\",\"orderType\":\"l\",\"misc\":\"\"},{\"price\":\"7031.90000\",\"volume\":\"0.01492136\",\"time\":\"1557733677.848643\",\"side\":\"s\",\"orderType\":\"l\",\"misc\":\"\"},{\"price\":\"7028.30000\",\"volume\":\"0.01491778\",\"time\":\"1557733681.544837\",\"side\":\"s\",\"orderType\":\"l\",\"misc\":\"\"},{\"price\":\"7028.30000\",\"volume\":\"0.00360000\",\"time\":\"1557733681.984870\",\"side\":\"s\",\"orderType\":\"l\",\"misc\":\"\"},{\"price\":\"7032.20000\",\"volume\":\"0.01491245\",\"time\":\"1557733686.869613\",\"side\":\"s\",\"orderType\":\"l\",\"misc\":\"\"},{\"price\":\"7032.20000\",\"volume\":\"0.00370000\",\"time\":\"1557733689.814888\",\"side\":\"s\",\"orderType\":\"l\",\"misc\":\"\"},{\"price\":\"7032.70000\",\"volume\":\"0.00731169\",\"time\":\"1557733695.381151\",\"side\":\"s\",\"orderType\":\"l\",\"misc\":\"\"},{\"price\":\"7032.70000\",\"volume\":\"0.00340000\",\"time\":\"1557733695.626341\",\"side\":\"s\",\"orderType\":\"l\",\"misc\":\"\"},{\"price\":\"7032.30000\",\"volume\":\"0.00280000\",\"time\":\"1557733702.370309\",\"side\":\"s\",\"orderType\":\"l\",\"misc\":\"\"},{\"price\":\"7032.20000\",\"volume\":\"0.00473382\",\"time\":\"1557733705.105747\",\"side\":\"s\",\"orderType\":\"l\",\"misc\":\"\"},{\"price\":\"7032.20000\",\"volume\":\"0.00200000\",\"time\":\"1557733708.983058\",\"side\":\"s\",\"orderType\":\"l\",\"misc\":\"\"},{\"price\":\"7032.20000\",\"volume\":\"0.00691666\",\"time\":\"1557733709.912764\",\"side\":\"s\",\"orderType\":\"l\",\"misc\":\"\"},{\"price\":\"7032.20000\",\"volume\":\"0.01000000\",\"time\":\"1557733713.579215\",\"side\":\"s\",\"orderType\":\"l\",\"misc\":\"\"},{\"price\":\"7032.20000\",\"volume\":\"0.01000000\",\"time\":\"1557733723.217269\",\"side\":\"s\",\"orderType\":\"l\",\"misc\":\"\"},{\"price\":\"7032.20000\",\"volume\":\"0.01821661\",\"time\":\"1557733723.322344\",\"side\":\"s\",\"orderType\":\"l\",\"misc\":\"\"},{\"price\":\"7032.20000\",\"volume\":\"0.00525387\",\"time\":\"1557733723.595205\",\"side\":\"s\",\"orderType\":\"l\",\"misc\":\"\"},{\"price\":\"7032.20000\",\"volume\":\"0.01492380\",\"time\":\"1557733727.671411\",\"side\":\"s\",\"orderType\":\"l\",\"misc\":\"\"},{\"price\":\"7032.20000\",\"volume\":\"0.01000000\",\"time\":\"1557733735.527551\",\"side\":\"s\",\"orderType\":\"l\",\"misc\":\"\"},{\"price\":\"7032.20000\",\"volume\":\"0.69934279\",\"time\":\"1557733738.436277\",\"side\":\"s\",\"orderType\":\"l\",\"misc\":\"\"},{\"price\":\"7032.20000\",\"volume\":\"0.14500000\",\"time\":\"1557733738.461962\",\"side\":\"s\",\"orderType\":\"l\",\"misc\":\"\"},{\"price\":\"7032.00000\",\"volume\":\"0.00050000\",\"time\":\"1557733738.487931\",\"side\":\"s\",\"orderType\":\"l\",\"misc\":\"\"},{\"price\":\"7031.80000\",\"volume\":\"0.02670000\",\"time\":\"1557733741.860132\",\"side\":\"b\",\"orderType\":\"l\",\"misc\":\"\"},{\"price\":\"7031.80000\",\"volume\":\"0.01480136\",\"time\":\"1557733753.156990\",\"side\":\"b\",\"orderType\":\"l\",\"misc\":\"\"},{\"price\":\"7031.70000\",\"volume\":\"0.00815556\",\"time\":\"1557733760.070716\",\"side\":\"s\",\"orderType\":\"l\",\"misc\":\"\"},{\"price\":\"7031.80000\",\"volume\":\"0.08000000\",\"time\":\"1557733768.298309\",\"side\":\"b\",\"orderType\":\"m\",\"misc\":\"\"},{\"price\":\"7031.90000\",\"volume\":\"0.02751154\",\"time\":\"1557733798.229120\",\"side\":\"b\",\"orderType\":\"l\",\"misc\":\"\"},{\"price\":\"7031.90000\",\"volume\":\"0.10348208\",\"time\":\"1557733798.964639\",\"side\":\"b\",\"orderType\":\"l\",\"misc\":\"\"},{\"price\":\"7031.90000\",\"volume\":\"0.81148998\",\"time\":\"1557733802.216658\",\"side\":\"b\",\"orderType\":\"l\",\"misc\":\"\"},{\"price\":\"7031.90000\",\"volume\":\"0.23284013\",\"time\":\"1557733803.745216\",\"side\":\"b\",\"orderType\":\"l\",\"misc\":\"\"},{\"price\":\"7032.00000\",\"volume\":\"0.56715987\",\"time\":\"1557733803.754535\",\"side\":\"b\",\"orderType\":\"l\",\"misc\":\"\"},{\"price\":\"7032.00000\",\"volume\":\"0.01587801\",\"time\":\"1557733805.761184\",\"side\":\"b\",\"orderType\":\"l\",\"misc\":\"\"},{\"price\":\"7032.00000\",\"volume\":\"0.03692885\",\"time\":\"1557733807.922130\",\"side\":\"b\",\"orderType\":\"l\",\"misc\":\"\"},{\"price\":\"7031.80000\",\"volume\":\"1.00000000\",\"time\":\"1557733815.018663\",\"side\":\"s\",\"orderType\":\"l\",\"misc\":\"\"},{\"price\":\"7031.70000\",\"volume\":\"0.20000000\",\"time\":\"1557733815.040258\",\"side\":\"s\",\"orderType\":\"l\",\"misc\":\"\"},{\"price\":\"7031.90000\",\"volume\":\"0.12950000\",\"time\":\"1557733817.391137\",\"side\":\"b\",\"orderType\":\"l\",\"misc\":\"\"},{\"price\":\"7031.90000\",\"volume\":\"0.10670000\",\"time\":\"1557733824.458231\",\"side\":\"b\",\"orderType\":\"l\",\"misc\":\"\"},{\"price\":\"7031.90000\",\"volume\":\"0.00520113\",\"time\":\"1557733825.059827\",\"side\":\"b\",\"orderType\":\"l\",\"misc\":\"\"},{\"price\":\"7031.90000\",\"volume\":\"0.10580000\",\"time\":\"1557733840.402345\",\"side\":\"b\",\"orderType\":\"l\",\"misc\":\"\"},{\"price\":\"7031.90000\",\"volume\":\"0.93825954\",\"time\":\"1557733840.864742\",\"side\":\"b\",\"orderType\":\"l\",\"misc\":\"\"},{\"price\":\"7032.00000\",\"volume\":\"0.28025236\",\"time\":\"1557733840.874089\",\"side\":\"b\",\"orderType\":\"l\",\"misc\":\"\"},{\"price\":\"7032.00000\",\"volume\":\"0.20358897\",\"time\":\"1557733840.877423\",\"side\":\"b\",\"orderType\":\"l\",\"misc\":\"\"},{\"price\":\"7032.00000\",\"volume\":\"0.05279953\",\"time\":\"1557733853.146138\",\"side\":\"b\",\"orderType\":\"l\",\"misc\":\"\"},{\"price\":\"7031.90000\",\"volume\":\"0.05000000\",\"time\":\"1557733919.073956\",\"side\":\"s\",\"orderType\":\"m\",\"misc\":\"\"},{\"price\":\"7031.90000\",\"volume\":\"0.95000000\",\"time\":\"1557733919.083857\",\"side\":\"s\",\"orderType\":\"m\",\"misc\":\"\"},{\"price\":\"7032.00000\",\"volume\":\"0.03146550\",\"time\":\"1557733933.788859\",\"side\":\"b\",\"orderType\":\"l\",\"misc\":\"\"},{\"price\":\"7032.00000\",\"volume\":\"0.04000000\",\"time\":\"1557733933.798022\",\"side\":\"b\",\"orderType\":\"l\",\"misc\":\"\"},{\"price\":\"7032.00000\",\"volume\":\"0.00000003\",\"time\":\"1557733933.801255\",\"side\":\"b\",\"orderType\":\"l\",\"misc\":\"\"},{\"price\":\"7032.00000\",\"volume\":\"0.00799997\",\"time\":\"1557733933.804171\",\"side\":\"b\",\"orderType\":\"l\",\"misc\":\"\"},{\"price\":\"7032.00000\",\"volume\":\"0.03200000\",\"time\":\"1557733933.807472\",\"side\":\"b\",\"orderType\":\"l\",\"misc\":\"\"},{\"price\":\"7032.00000\",\"volume\":\"0.02700000\",\"time\":\"1557733933.812295\",\"side\":\"b\",\"orderType\":\"l\",\"misc\":\"\"},{\"price\":\"7032.00000\",\"volume\":\"0.00400000\",\"time\":\"1557733933.815631\",\"side\":\"b\",\"orderType\":\"l\",\"misc\":\"\"},{\"price\":\"7032.00000\",\"volume\":\"0.00900000\",\"time\":\"1557733933.818987\",\"side\":\"b\",\"orderType\":\"l\",\"misc\":\"\"},{\"price\":\"7032.00000\",\"volume\":\"0.01800000\",\"time\":\"1557733933.823005\",\"side\":\"b\",\"orderType\":\"l\",\"misc\":\"\"},{\"price\":\"7032.00000\",\"volume\":\"0.02200000\",\"time\":\"1557733933.827317\",\"side\":\"b\",\"orderType\":\"l\",\"misc\":\"\"},{\"price\":\"7032.00000\",\"volume\":\"0.05853450\",\"time\":\"1557733933.831395\",\"side\":\"b\",\"orderType\":\"l\",\"misc\":\"\"},{\"price\":\"7032.00000\",\"volume\":\"0.11490000\",\"time\":\"1557733935.994543\",\"side\":\"b\",\"orderType\":\"l\",\"misc\":\"\"},{\"price\":\"7032.00000\",\"volume\":\"0.24720000\",\"time\":\"1557733936.577302\",\"side\":\"b\",\"orderType\":\"l\",\"misc\":\"\"},{\"price\":\"7032.00000\",\"volume\":\"0.00414716\",\"time\":\"1557733939.730457\",\"side\":\"b\",\"orderType\":\"l\",\"misc\":\"\"},{\"price\":\"7032.00000\",\"volume\":\"0.02028341\",\"time\":\"1557733939.740161\",\"side\":\"b\",\"orderType\":\"l\",\"misc\":\"\"},{\"price\":\"7032.00000\",\"volume\":\"1.27966760\",\"time\":\"1557733949.074109\",\"side\":\"b\",\"orderType\":\"l\",\"misc\":\"\"},{\"price\":\"7032.00000\",\"volume\":\"0.00133240\",\"time\":\"1557733949.076747\",\"side\":\"b\",\"orderType\":\"l\",\"misc\":\"\"},{\"price\":\"7032.00000\",\"volume\":\"0.00001905\",\"time\":\"1557733949.083005\",\"side\":\"b\",\"orderType\":\"l\",\"misc\":\"\"},{\"price\":\"7032.70000\",\"volume\":\"0.00998095\",\"time\":\"1557733949.087576\",\"side\":\"b\",\"orderType\":\"l\",\"misc\":\"\"},{\"price\":\"7032.70000\",\"volume\":\"0.00001905\",\"time\":\"1557733958.026901\",\"side\":\"b\",\"orderType\":\"m\",\"misc\":\"\"},{\"price\":\"7035.00000\",\"volume\":\"1.00000000\",\"time\":\"1557733958.041993\",\"side\":\"b\",\"orderType\":\"m\",\"misc\":\"\"},{\"price\":\"7040.00000\",\"volume\":\"0.99998095\",\"time\":\"1557733958.045106\",\"side\":\"b\",\"orderType\":\"m\",\"misc\":\"\"},{\"price\":\"7040.00000\",\"volume\":\"0.00001905\",\"time\":\"1557733990.763744\",\"side\":\"b\",\"orderType\":\"m\",\"misc\":\"\"},{\"price\":\"7040.30000\",\"volume\":\"0.20000000\",\"time\":\"1557733990.772974\",\"side\":\"b\",\"orderType\":\"m\",\"misc\":\"\"},{\"price\":\"7044.00000\",\"volume\":\"0.45598095\",\"time\":\"1557733990.775687\",\"side\":\"b\",\"orderType\":\"m\",\"misc\":\"\"},{\"price\":\"7037.70000\",\"volume\":\"0.00464996\",\"time\":\"1557734016.537195\",\"side\":\"s\",\"orderType\":\"l\",\"misc\":\"\"},{\"price\":\"7038.20000\",\"volume\":\"0.01492887\",\"time\":\"1557734038.760251\",\"side\":\"s\",\"orderType\":\"l\",\"misc\":\"\"},{\"price\":\"7037.10000\",\"volume\":\"0.01492943\",\"time\":\"1557734043.112234\",\"side\":\"s\",\"orderType\":\"l\",\"misc\":\"\"},{\"price\":\"7033.10000\",\"volume\":\"0.02325078\",\"time\":\"1557734076.263950\",\"side\":\"s\",\"orderType\":\"l\",\"misc\":\"\"},{\"price\":\"7032.20000\",\"volume\":\"0.00400000\",\"time\":\"1557734094.060539\",\"side\":\"s\",\"orderType\":\"m\",\"misc\":\"\"},{\"price\":\"7033.80000\",\"volume\":\"0.01649980\",\"time\":\"1557734127.225534\",\"side\":\"b\",\"orderType\":\"l\",\"misc\":\"\"},{\"price\":\"7032.00000\",\"volume\":\"0.01375580\",\"time\":\"1557734134.386720\",\"side\":\"s\",\"orderType\":\"l\",\"misc\":\"\"},{\"price\":\"7032.10000\",\"volume\":\"0.02721356\",\"time\":\"1557734153.180450\",\"side\":\"s\",\"orderType\":\"l\",\"misc\":\"\"},{\"price\":\"7035.10000\",\"volume\":\"0.04752573\",\"time\":\"1557734157.942913\",\"side\":\"b\",\"orderType\":\"l\",\"misc\":\"\"},{\"price\":\"7032.10000\",\"volume\":\"0.02700000\",\"time\":\"1557734159.443854\",\"side\":\"s\",\"orderType\":\"l\",\"misc\":\"\"},{\"price\":\"7032.00000\",\"volume\":\"0.08624420\",\"time\":\"1557734159.453482\",\"side\":\"s\",\"orderType\":\"l\",\"misc\":\"\"},{\"price\":\"7032.00000\",\"volume\":\"0.01636727\",\"time\":\"1557734164.108784\",\"side\":\"b\",\"orderType\":\"l\",\"misc\":\"\"},{\"price\":\"7031.40000\",\"volume\":\"0.05279389\",\"time\":\"1557734194.137645\",\"side\":\"b\",\"orderType\":\"l\",\"misc\":\"\"},{\"price\":\"7031.20000\",\"volume\":\"0.00568884\",\"time\":\"1557734197.716095\",\"side\":\"b\",\"orderType\":\"l\",\"misc\":\"\"},{\"price\":\"7029.20000\",\"volume\":\"1.00000000\",\"time\":\"1557734206.131881\",\"side\":\"b\",\"orderType\":\"l\",\"misc\":\"\"},{\"price\":\"7029.20000\",\"volume\":\"0.07691104\",\"time\":\"1557734206.137314\",\"side\":\"b\",\"orderType\":\"l\",\"misc\":\"\"},{\"price\":\"7029.20000\",\"volume\":\"0.27733897\",\"time\":\"1557734206.140916\",\"side\":\"b\",\"orderType\":\"l\",\"misc\":\"\"},{\"price\":\"7029.30000\",\"volume\":\"0.06856916\",\"time\":\"1557734206.143609\",\"side\":\"b\",\"orderType\":\"l\",\"misc\":\"\"},{\"price\":\"7025.80000\",\"volume\":\"0.01437200\",\"time\":\"1557734211.121980\",\"side\":\"s\",\"orderType\":\"m\",\"misc\":\"\"},{\"price\":\"7029.00000\",\"volume\":\"0.04751968\",\"time\":\"1557734212.176085\",\"side\":\"b\",\"orderType\":\"l\",\"misc\":\"\"},{\"price\":\"7028.90000\",\"volume\":\"0.02913613\",\"time\":\"1557734220.533228\",\"side\":\"b\",\"orderType\":\"l\",\"misc\":\"\"},{\"price\":\"7028.80000\",\"volume\":\"0.01629875\",\"time\":\"1557734222.434914\",\"side\":\"b\",\"orderType\":\"l\",\"misc\":\"\"},{\"price\":\"7021.00000\",\"volume\":\"0.02916892\",\"time\":\"1557734300.516922\",\"side\":\"b\",\"orderType\":\"l\",\"misc\":\"\"},{\"price\":\"7019.00000\",\"volume\":\"1.00000000\",\"time\":\"1557734304.257633\",\"side\":\"s\",\"orderType\":\"m\",\"misc\":\"\"},{\"price\":\"7018.90000\",\"volume\":\"0.08220000\",\"time\":\"1557734304.276392\",\"side\":\"s\",\"orderType\":\"m\",\"misc\":\"\"},{\"price\":\"7018.90000\",\"volume\":\"0.34600000\",\"time\":\"1557734304.280556\",\"side\":\"s\",\"orderType\":\"m\",\"misc\":\"\"},{\"price\":\"7016.90000\",\"volume\":\"0.30000000\",\"time\":\"1557734304.283671\",\"side\":\"s\",\"orderType\":\"m\",\"misc\":\"\"},{\"price\":\"7015.80000\",\"volume\":\"0.54244061\",\"time\":\"1557734304.286861\",\"side\":\"s\",\"orderType\":\"m\",\"misc\":\"\"},{\"price\":\"7015.70000\",\"volume\":\"0.12100000\",\"time\":\"1557734304.290565\",\"side\":\"s\",\"orderType\":\"m\",\"misc\":\"\"},{\"price\":\"7015.00000\",\"volume\":\"1.00000000\",\"time\":\"1557734304.295457\",\"side\":\"s\",\"orderType\":\"m\",\"misc\":\"\"},{\"price\":\"7014.40000\",\"volume\":\"0.10835939\",\"time\":\"1557734304.298623\",\"side\":\"s\",\"orderType\":\"m\",\"misc\":\"\"},{\"price\":\"7014.40000\",\"volume\":\"1.64164061\",\"time\":\"1557734304.307340\",\"side\":\"s\",\"orderType\":\"m\",\"misc\":\"\"},{\"price\":\"7013.50000\",\"volume\":\"0.85835939\",\"time\":\"1557734304.310626\",\"side\":\"s\",\"orderType\":\"m\",\"misc\":\"\"}]}'}"
            ]
          },
          "metadata": {
            "tags": []
          },
          "execution_count": 113
        }
      ]
    },
    {
      "cell_type": "markdown",
      "metadata": {
        "id": "fzCMtOiHS7R6",
        "colab_type": "text"
      },
      "source": [
        "Modulo necesario para abrir el json con la data y poder llevarlo a dataframe. Segun lei con ijson se consigue algo mas eficiente. "
      ]
    },
    {
      "cell_type": "code",
      "metadata": {
        "id": "dZwHWzngHqz5",
        "colab_type": "code",
        "colab": {}
      },
      "source": [
        "def abrir_trades(name):\n",
        "  import json  \n",
        "  import pandas as pd  \n",
        "  from pandas.io.json import json_normalize  \n",
        "\n",
        "\n",
        "  \n",
        "  with open(name) as f: \n",
        "      d = json.load(f) \n",
        "    \n",
        "  trades = json_normalize(d['data']) \n",
        "\n",
        "  return trades"
      ],
      "execution_count": 0,
      "outputs": []
    },
    {
      "cell_type": "code",
      "metadata": {
        "id": "MC7WE5DRNJ49",
        "colab_type": "code",
        "colab": {}
      },
      "source": [
        "trades = abrir_trades('kraken-BTCUSD-2019-5-13 07_58_54.json')"
      ],
      "execution_count": 0,
      "outputs": []
    },
    {
      "cell_type": "code",
      "metadata": {
        "id": "YJv91IUCXWC6",
        "colab_type": "code",
        "outputId": "0e73b5f8-9921-42f5-9931-ab9d7d6d19b4",
        "colab": {
          "base_uri": "https://localhost:8080/",
          "height": 204
        }
      },
      "source": [
        "trades.info()"
      ],
      "execution_count": 0,
      "outputs": [
        {
          "output_type": "stream",
          "text": [
            "<class 'pandas.core.frame.DataFrame'>\n",
            "RangeIndex: 592 entries, 0 to 591\n",
            "Data columns (total 6 columns):\n",
            "misc         592 non-null object\n",
            "orderType    592 non-null object\n",
            "price        592 non-null object\n",
            "side         592 non-null object\n",
            "time         592 non-null object\n",
            "volume       592 non-null object\n",
            "dtypes: object(6)\n",
            "memory usage: 27.8+ KB\n"
          ],
          "name": "stdout"
        }
      ]
    },
    {
      "cell_type": "code",
      "metadata": {
        "id": "l0b-H7aZXaKH",
        "colab_type": "code",
        "outputId": "0800453b-66c1-4e5c-b1a8-27f1f31ce13b",
        "colab": {
          "base_uri": "https://localhost:8080/",
          "height": 204
        }
      },
      "source": [
        "trades.head()"
      ],
      "execution_count": 0,
      "outputs": [
        {
          "output_type": "execute_result",
          "data": {
            "text/html": [
              "<div>\n",
              "<style scoped>\n",
              "    .dataframe tbody tr th:only-of-type {\n",
              "        vertical-align: middle;\n",
              "    }\n",
              "\n",
              "    .dataframe tbody tr th {\n",
              "        vertical-align: top;\n",
              "    }\n",
              "\n",
              "    .dataframe thead th {\n",
              "        text-align: right;\n",
              "    }\n",
              "</style>\n",
              "<table border=\"1\" class=\"dataframe\">\n",
              "  <thead>\n",
              "    <tr style=\"text-align: right;\">\n",
              "      <th></th>\n",
              "      <th>misc</th>\n",
              "      <th>orderType</th>\n",
              "      <th>price</th>\n",
              "      <th>side</th>\n",
              "      <th>time</th>\n",
              "      <th>volume</th>\n",
              "    </tr>\n",
              "  </thead>\n",
              "  <tbody>\n",
              "    <tr>\n",
              "      <th>0</th>\n",
              "      <td></td>\n",
              "      <td>m</td>\n",
              "      <td>7073.70000</td>\n",
              "      <td>b</td>\n",
              "      <td>1557730746.807457</td>\n",
              "      <td>0.10000000</td>\n",
              "    </tr>\n",
              "    <tr>\n",
              "      <th>1</th>\n",
              "      <td></td>\n",
              "      <td>l</td>\n",
              "      <td>7073.60000</td>\n",
              "      <td>b</td>\n",
              "      <td>1557730778.637459</td>\n",
              "      <td>0.06180000</td>\n",
              "    </tr>\n",
              "    <tr>\n",
              "      <th>2</th>\n",
              "      <td></td>\n",
              "      <td>m</td>\n",
              "      <td>7074.70000</td>\n",
              "      <td>b</td>\n",
              "      <td>1557730788.577943</td>\n",
              "      <td>0.15000000</td>\n",
              "    </tr>\n",
              "    <tr>\n",
              "      <th>3</th>\n",
              "      <td></td>\n",
              "      <td>m</td>\n",
              "      <td>7073.50000</td>\n",
              "      <td>s</td>\n",
              "      <td>1557730804.497243</td>\n",
              "      <td>0.00461000</td>\n",
              "    </tr>\n",
              "    <tr>\n",
              "      <th>4</th>\n",
              "      <td></td>\n",
              "      <td>m</td>\n",
              "      <td>7073.50000</td>\n",
              "      <td>s</td>\n",
              "      <td>1557730809.804852</td>\n",
              "      <td>0.01316000</td>\n",
              "    </tr>\n",
              "  </tbody>\n",
              "</table>\n",
              "</div>"
            ],
            "text/plain": [
              "  misc orderType       price side               time      volume\n",
              "0              m  7073.70000    b  1557730746.807457  0.10000000\n",
              "1              l  7073.60000    b  1557730778.637459  0.06180000\n",
              "2              m  7074.70000    b  1557730788.577943  0.15000000\n",
              "3              m  7073.50000    s  1557730804.497243  0.00461000\n",
              "4              m  7073.50000    s  1557730809.804852  0.01316000"
            ]
          },
          "metadata": {
            "tags": []
          },
          "execution_count": 116
        }
      ]
    },
    {
      "cell_type": "code",
      "metadata": {
        "id": "eFw3zNVEX7Yk",
        "colab_type": "code",
        "colab": {}
      },
      "source": [
        "trades = kraken_transformacion(trades,'price','volume','time')"
      ],
      "execution_count": 0,
      "outputs": []
    },
    {
      "cell_type": "markdown",
      "metadata": {
        "id": "n7sKrpo6TDEM",
        "colab_type": "text"
      },
      "source": [
        "def para transformar los datos de hitbtc en las diferentes formas que necesitamos"
      ]
    },
    {
      "cell_type": "code",
      "metadata": {
        "id": "YpxAy7WHXeQo",
        "colab_type": "code",
        "colab": {}
      },
      "source": [
        "def kraken_transformacion(df,price_column,volume_column,time_column):\n",
        "  # HAY UN PROBLEMA EN KRAKEN A LA HORA DE PASAR EL TIMESTAMP, lo manda a 1970\n",
        "  df[time_column] = pd.to_datetime(df[time_column], unit='ns')\n",
        "  #df[time_column] = pd.to_datetime(trades[time_column])\n",
        "  \n",
        "  df.rename(columns={volume_column:'volume',time_column:'timestamp'},inplace=True)\n",
        "  \n",
        "  df[price_column] = df[price_column].astype(float)\n",
        "  df['volume'] = df['volume'].astype(float)\n",
        "  \n",
        "  return df"
      ],
      "execution_count": 0,
      "outputs": []
    },
    {
      "cell_type": "code",
      "metadata": {
        "id": "6CK3JzRdHstL",
        "colab_type": "code",
        "colab": {}
      },
      "source": [
        "def hitbtc_transformacion(df,time_column,price_column,volume_column):\n",
        "  df[time_column] = df[time_column].map(lambda x: x.replace('T', ' ').rstrip(\"Z\"))\n",
        "  df[time_column] = pd.to_datetime(trades[time_column])\n",
        "  \n",
        "  df.rename(columns={volume_column:'volume'},inplace=True)\n",
        "  \n",
        "  df[price_column] = df[price_column].astype(float)\n",
        "  df['volume'] = df['volume'].astype(float)\n",
        "  \n",
        "  return df"
      ],
      "execution_count": 0,
      "outputs": []
    },
    {
      "cell_type": "code",
      "metadata": {
        "id": "OgD5E7dIUBIF",
        "colab_type": "code",
        "colab": {}
      },
      "source": [
        "def bitfinex_transformacion(df,time_column,price_column,volume_column):\n",
        "  df[time_column] = pd.to_datetime(df[time_column], unit='ms')\n",
        "  trades.rename(columns={'amount':'volume','timeStamp':'timestamp'},inplace=True)\n",
        "\n",
        "  return df"
      ],
      "execution_count": 0,
      "outputs": []
    },
    {
      "cell_type": "code",
      "metadata": {
        "id": "ew8t74YHU4KN",
        "colab_type": "code",
        "colab": {}
      },
      "source": [
        "def binance_transformacion(df):\n",
        "  \n",
        "  df.rename(columns={'E':'Event time','T':'timestamp','p':'price',\n",
        "                         'q':'volume','M':'Ignore','a':'Seller order ID',\n",
        "                         'b':'Buyer order ID','e':'event type','m':'MM Buyer','s':'Symbol','t':'Trade ID'}, inplace=True)\n",
        "\n",
        "\n",
        "  trades.drop(['Ignore'],axis=1,inplace=True)\n",
        "  trades['timestamp'] = pd.to_datetime(trades['timestamp'], unit='ms')\n",
        "  trades['Event time']=pd.to_datetime(trades['Event time'], unit='ms')\n",
        "  trades['price'] = trades['price'].astype(float)\n",
        "  trades['volume'] = trades['volume'].astype(float)\n",
        "  \n",
        "  return trades"
      ],
      "execution_count": 0,
      "outputs": []
    },
    {
      "cell_type": "code",
      "metadata": {
        "id": "k3ojBTBhNUbs",
        "colab_type": "code",
        "colab": {}
      },
      "source": [
        "trades = binance_transformacion(trades)"
      ],
      "execution_count": 0,
      "outputs": []
    },
    {
      "cell_type": "code",
      "metadata": {
        "id": "joG1zPGfIxTC",
        "colab_type": "code",
        "colab": {}
      },
      "source": [
        "def trades_timestamp(df):\n",
        "  #a todas las columnas de ahora mas el tiempo es timestamp\n",
        "  tradesT=df.set_index(df['timestamp'])\n",
        "  \n",
        "  #sirve ver este retorno? o solo tomamos el de las OHLCs. Porque? \n",
        "  tradesT['retorno']= tradesT['price'] / tradesT['price'].shift(1) - 1\n",
        "  return tradesT\n",
        "  "
      ],
      "execution_count": 0,
      "outputs": []
    },
    {
      "cell_type": "code",
      "metadata": {
        "id": "qPEbH3bmN7rZ",
        "colab_type": "code",
        "colab": {}
      },
      "source": [
        "tradesT = trades_timestamp(trades)"
      ],
      "execution_count": 0,
      "outputs": []
    },
    {
      "cell_type": "code",
      "metadata": {
        "id": "uhnKGBUrOMDK",
        "colab_type": "code",
        "outputId": "a850d980-04b1-48f5-daee-8b7f2368dd99",
        "colab": {
          "base_uri": "https://localhost:8080/",
          "height": 289
        }
      },
      "source": [
        "tradesT.info()"
      ],
      "execution_count": 0,
      "outputs": [
        {
          "output_type": "stream",
          "text": [
            "<class 'pandas.core.frame.DataFrame'>\n",
            "DatetimeIndex: 8075 entries, 2019-05-09 23:51:51.539000 to 2019-05-10 00:51:48.428000\n",
            "Data columns (total 11 columns):\n",
            "Event time         8075 non-null datetime64[ns]\n",
            "timestamp          8075 non-null datetime64[ns]\n",
            "Seller order ID    8075 non-null int64\n",
            "Buyer order ID     8075 non-null int64\n",
            "event type         8075 non-null object\n",
            "MM Buyer           8075 non-null bool\n",
            "price              8075 non-null float64\n",
            "volume             8075 non-null float64\n",
            "Symbol             8075 non-null object\n",
            "Trade ID           8075 non-null int64\n",
            "retorno            8074 non-null float64\n",
            "dtypes: bool(1), datetime64[ns](2), float64(3), int64(3), object(2)\n",
            "memory usage: 861.8+ KB\n"
          ],
          "name": "stdout"
        }
      ]
    },
    {
      "cell_type": "code",
      "metadata": {
        "id": "RrG44G3YL8i9",
        "colab_type": "code",
        "colab": {}
      },
      "source": [
        "class BarSeries(object):\n",
        "    '''\n",
        "        Clase Base para resamplear dataframe de trades a un OHLC(V)\n",
        "        usando diferentes esquemas. Este esquema en particular\n",
        "        implementa el basico de time bars\n",
        "    '''\n",
        "    \n",
        "    #inicializacion del programa\n",
        "    def __init__(self, df, datetimecolumn = 'DateTime'):\n",
        "        self.df = df\n",
        "        self.datetimecolumn = datetimecolumn\n",
        "    \n",
        "    #crear columnas de OHLC, tenemos que pasarle el nombre de la columna y freq\n",
        "    def process_column(self, column_name, frequency):\n",
        "        return self.df[column_name].resample(frequency, label='right').ohlc()\n",
        "    \n",
        "    def process_volume(self, column_name, frequency):\n",
        "        return self.df[column_name].resample(frequency, label='right').sum()\n",
        "    \n",
        "    def process_ticks(self, price_column = 'price', volume_column = 'volume', frequency = '1Min'):\n",
        "        price_df = self.process_column(price_column, frequency)\n",
        "        volume_df = self.process_volume(volume_column, frequency)\n",
        "        price_df['volume'] = volume_df\n",
        "        return price_df"
      ],
      "execution_count": 0,
      "outputs": []
    },
    {
      "cell_type": "code",
      "metadata": {
        "id": "zHhjA9o3OVOl",
        "colab_type": "code",
        "colab": {}
      },
      "source": [
        "# inicializo la serie\n",
        "ohlc=BarSeries(tradesT)\n",
        "\n",
        "#testeo las defs ya en la clase\n",
        "OHLC=ohlc.process_column('price',\"300S\")\n",
        "VOL=ohlc.process_volume('volume','300S')\n",
        "\n",
        "#seteo las bars\n",
        "time_bars=ohlc.process_ticks(frequency=\"300S\")"
      ],
      "execution_count": 0,
      "outputs": []
    },
    {
      "cell_type": "code",
      "metadata": {
        "id": "DshpHh-OOgKi",
        "colab_type": "code",
        "outputId": "dd6022b6-3429-47d0-9ae1-bb631758b198",
        "colab": {
          "base_uri": "https://localhost:8080/",
          "height": 204
        }
      },
      "source": [
        "time_bars.info()"
      ],
      "execution_count": 0,
      "outputs": [
        {
          "output_type": "stream",
          "text": [
            "<class 'pandas.core.frame.DataFrame'>\n",
            "DatetimeIndex: 13 entries, 2019-05-09 23:55:00 to 2019-05-10 00:55:00\n",
            "Freq: 300S\n",
            "Data columns (total 5 columns):\n",
            "open      13 non-null float64\n",
            "high      13 non-null float64\n",
            "low       13 non-null float64\n",
            "close     13 non-null float64\n",
            "volume    13 non-null float64\n",
            "dtypes: float64(5)\n",
            "memory usage: 624.0 bytes\n"
          ],
          "name": "stdout"
        }
      ]
    },
    {
      "cell_type": "code",
      "metadata": {
        "id": "AbCAKGynMOWu",
        "colab_type": "code",
        "colab": {}
      },
      "source": [
        "class TickBarSeries(BarSeries):\n",
        "    '''\n",
        "        Class for generating tick bars based on bid-ask-size dataframe\n",
        "    '''\n",
        "    def __init__(self, df, datetimecolumn = 'timestamp', volume_column = 'volume'):\n",
        "        self.volume_column = volume_column\n",
        "        super(TickBarSeries, self).__init__(df, datetimecolumn)\n",
        "    \n",
        "    def process_column(self, column_name, frequency):\n",
        "        res = []\n",
        "        for i in range(frequency, len(self.df), frequency):\n",
        "            sample = self.df.iloc[i-frequency:i]\n",
        "            v = sample[self.volume_column].values.sum()\n",
        "            o = sample[column_name].values.tolist()[0]\n",
        "            h = sample[column_name].values.max()\n",
        "            l = sample[column_name].values.min()\n",
        "            c = sample[column_name].values.tolist()[-1]\n",
        "            d = sample.index.values[-1]\n",
        "            \n",
        "            res.append({\n",
        "                self.datetimecolumn: d,\n",
        "                'open': o,\n",
        "                'high': h,\n",
        "                'low': l,\n",
        "                'close': c,\n",
        "                'volume': v\n",
        "            })\n",
        "\n",
        "        res = pd.DataFrame(res).set_index(self.datetimecolumn)\n",
        "        return res\n",
        "\n",
        "    \n",
        "    def process_ticks(self, price_column = 'price', volume_column = 'volume', frequency = 10):\n",
        "        price_df = self.process_column(price_column, frequency)\n",
        "        return price_df    "
      ],
      "execution_count": 0,
      "outputs": []
    },
    {
      "cell_type": "code",
      "metadata": {
        "id": "mDeJySs9OxLN",
        "colab_type": "code",
        "colab": {}
      },
      "source": [
        "ohlc_ticks=TickBarSeries(tradesT)\n",
        "\n",
        "#notar que los aca la frecuencia la pongo en 100 no en Seg ni Min pq son cantidad de trades\n",
        "ohlc_col_ticks = ohlc_ticks.process_column('price',100)\n",
        "ticks_bars=ohlc_ticks.process_ticks(frequency=100)\n"
      ],
      "execution_count": 0,
      "outputs": []
    },
    {
      "cell_type": "code",
      "metadata": {
        "id": "nBAlufRnPc9F",
        "colab_type": "code",
        "outputId": "d492f1a2-518a-4d5e-d017-6820b801ffc9",
        "colab": {
          "base_uri": "https://localhost:8080/",
          "height": 187
        }
      },
      "source": [
        "ticks_bars.info()"
      ],
      "execution_count": 0,
      "outputs": [
        {
          "output_type": "stream",
          "text": [
            "<class 'pandas.core.frame.DataFrame'>\n",
            "DatetimeIndex: 80 entries, 2019-05-09 23:54:06.538000 to 2019-05-10 00:51:16.624000\n",
            "Data columns (total 5 columns):\n",
            "close     80 non-null float64\n",
            "high      80 non-null float64\n",
            "low       80 non-null float64\n",
            "open      80 non-null float64\n",
            "volume    80 non-null float64\n",
            "dtypes: float64(5)\n",
            "memory usage: 3.8 KB\n"
          ],
          "name": "stdout"
        }
      ]
    },
    {
      "cell_type": "code",
      "metadata": {
        "id": "ZefJft8UMfKp",
        "colab_type": "code",
        "colab": {}
      },
      "source": [
        "#esta no funciono del todo bien como me gustaria.\n",
        "class VolumeBarSeries(BarSeries):\n",
        "    '''\n",
        "        Class for generating volume bars based on bid-ask-size dataframe\n",
        "    '''\n",
        "    def __init__(self, df, datetimecolumn = 'timestamp', volume_column = 'volume'):\n",
        "        self.volume_column = volume_column\n",
        "        super(VolumeBarSeries, self).__init__(df, datetimecolumn)\n",
        "               \n",
        "    def process_column(self, column_name, frequency):\n",
        "        res = []\n",
        "        buf = []\n",
        "        start_index = 0.\n",
        "        volume_buf = 0.\n",
        "        for i in range(len(self.df[column_name])):\n",
        "\n",
        "            pi = self.df[column_name].iloc[i]\n",
        "            vi = self.df[self.volume_column].iloc[i]\n",
        "            di = self.df.index.values[i]\n",
        "            \n",
        "            buf.append(pi)\n",
        "            volume_buf += vi\n",
        "            \n",
        "            if volume_buf >= frequency:\n",
        "                \n",
        "                o = buf[0]\n",
        "                h = np.max(buf)\n",
        "                l = np.min(buf)\n",
        "                c = buf[-1]\n",
        "                \n",
        "                res.append({\n",
        "                    self.datetimecolumn: di,\n",
        "                    'open': o,\n",
        "                    'high': h,\n",
        "                    'low': l,\n",
        "                    'close': c,  \n",
        "                    'volume': volume_buf\n",
        "                })\n",
        "                \n",
        "                buf, volume_buf = [], 0.\n",
        "\n",
        "        res = pd.DataFrame(res).set_index(self.datetimecolumn)\n",
        "        return res\n",
        "    \n",
        "    def process_ticks(self, price_column = 'price', volume_column = 'volume', frequency = 1000):\n",
        "        price_df = self.process_column(price_column, frequency)\n",
        "        return price_df "
      ],
      "execution_count": 0,
      "outputs": []
    },
    {
      "cell_type": "code",
      "metadata": {
        "id": "1JIe0ECbWo3L",
        "colab_type": "code",
        "colab": {}
      },
      "source": [
        "volume_df = VolumeBarSeries(tradesT)\n",
        "volume_bars = volume_df.process_ticks(frequency=1000)"
      ],
      "execution_count": 0,
      "outputs": []
    },
    {
      "cell_type": "code",
      "metadata": {
        "id": "sjUGS6v4Wwnl",
        "colab_type": "code",
        "outputId": "0320ec5d-536e-472c-d633-87562dd80e8e",
        "colab": {
          "base_uri": "https://localhost:8080/",
          "height": 187
        }
      },
      "source": [
        "volume_bars.info()"
      ],
      "execution_count": 0,
      "outputs": [
        {
          "output_type": "stream",
          "text": [
            "<class 'pandas.core.frame.DataFrame'>\n",
            "DatetimeIndex: 144 entries, 2019-05-09 23:53:36.997000 to 2019-05-10 00:51:28.178000\n",
            "Data columns (total 5 columns):\n",
            "close     144 non-null float64\n",
            "high      144 non-null float64\n",
            "low       144 non-null float64\n",
            "open      144 non-null float64\n",
            "volume    144 non-null float64\n",
            "dtypes: float64(5)\n",
            "memory usage: 6.8 KB\n"
          ],
          "name": "stdout"
        }
      ]
    },
    {
      "cell_type": "code",
      "metadata": {
        "id": "43o-K6NwMtvs",
        "colab_type": "code",
        "colab": {}
      },
      "source": [
        "class DollarBarSeries(BarSeries):\n",
        "    '''\n",
        "        Class for generating \"dollar\" bars based on bid-ask-size dataframe\n",
        "    '''\n",
        "    def __init__(self, df, datetimecolumn = 'timestamp', volume_column = 'volume'):\n",
        "        self.volume_column = volume_column\n",
        "        super(DollarBarSeries, self).__init__(df, datetimecolumn)\n",
        "               \n",
        "    def process_column(self, column_name, frequency):\n",
        "        res = []\n",
        "        buf, vbuf = [], []\n",
        "        start_index = 0.\n",
        "        dollar_buf = 0.\n",
        "        for i in range(len(self.df[column_name])):\n",
        "\n",
        "            pi = self.df[column_name].iloc[i]\n",
        "            vi = self.df[self.volume_column].iloc[i]\n",
        "            di = self.df.index.values[i]\n",
        "            \n",
        "            dvi = pi * vi\n",
        "            buf.append(pi)\n",
        "            vbuf.append(vi)\n",
        "            dollar_buf += dvi\n",
        "            \n",
        "            if dollar_buf >= frequency:\n",
        "                \n",
        "                o = buf[0]\n",
        "                h = np.max(buf)\n",
        "                l = np.min(buf)\n",
        "                c = buf[-1]\n",
        "                v = np.sum(vbuf)\n",
        "                \n",
        "                res.append({\n",
        "                    self.datetimecolumn: di,\n",
        "                    'open': o,\n",
        "                    'high': h,\n",
        "                    'low': l,\n",
        "                    'close': c,\n",
        "                    'volume': v,\n",
        "                    'dollar': dollar_buf\n",
        "                })\n",
        "                \n",
        "                buf, vbuf, dollar_buf = [], [], 0.\n",
        "\n",
        "        res = pd.DataFrame(res).set_index(self.datetimecolumn)\n",
        "        return res \n",
        "    \n",
        "    def process_ticks(self, price_column = 'price', volume_column = 'volume', frequency = 1000):\n",
        "        price_df = self.process_column(price_column, frequency)\n",
        "        return price_df    \n",
        "    "
      ],
      "execution_count": 0,
      "outputs": []
    },
    {
      "cell_type": "code",
      "metadata": {
        "id": "8PztCs97PxPd",
        "colab_type": "code",
        "colab": {}
      },
      "source": [
        "#problemas para correrlo con Binance \n",
        "\n",
        "dolar_df = DollarBarSeries(tradesT)\n",
        "#dolar_df_cols=dolar_df.process_column('price',100000)\n",
        "dollar_bars = dolar_df.process_ticks(frequency=10000)"
      ],
      "execution_count": 0,
      "outputs": []
    },
    {
      "cell_type": "code",
      "metadata": {
        "id": "RGgMOWsmQkzR",
        "colab_type": "code",
        "outputId": "5d420943-1c5a-4d27-814f-6b0a58169a4f",
        "colab": {
          "base_uri": "https://localhost:8080/",
          "height": 204
        }
      },
      "source": [
        "dollar_bars.info()"
      ],
      "execution_count": 0,
      "outputs": [
        {
          "output_type": "stream",
          "text": [
            "<class 'pandas.core.frame.DataFrame'>\n",
            "DatetimeIndex: 220 entries, 2019-05-10 15:55:44.410000 to 2019-05-10 16:40:27.403000\n",
            "Data columns (total 6 columns):\n",
            "close     220 non-null float64\n",
            "dollar    220 non-null float64\n",
            "high      220 non-null float64\n",
            "low       220 non-null float64\n",
            "open      220 non-null float64\n",
            "volume    220 non-null float64\n",
            "dtypes: float64(6)\n",
            "memory usage: 12.0 KB\n"
          ],
          "name": "stdout"
        }
      ]
    },
    {
      "cell_type": "code",
      "metadata": {
        "id": "zsnshfcCQxfA",
        "colab_type": "code",
        "colab": {}
      },
      "source": [
        "def ploteo_comparacion_bars(df_trades,df_time,df_ticks,df_dollars): \n",
        "  plt.figure(figsize = (18, 8))\n",
        "  plt.title('Bars sobre los precios')\n",
        "  plt.plot(df_trades.index.values, df_trades.price.values, label = 'Raw prices', ls = '--', color = 'black')\n",
        "  #plt.plot(df_time.index.values[:12], df_time.close.values[:12], ls = '', markersize = 10, marker = '.')\n",
        "  plt.plot(df_ticks.index.values, df_ticks.close.values, ls = '',color='red', markersize = 4, marker = 'o', label = '350 ticks bars')\n",
        "  #plt.plot(df_volume.index.values[:30], df_volume.close.values[:30], ls = '', markersize = 10, marker = '*', label = '10K volume bars')\n",
        "  plt.plot(df_dollars.index.values, df_dollars.close.values, ls = '',color='orange', markersize = 8, marker = '*', label = '100K dollar bars ')\n",
        "\n",
        "  for e, t in enumerate(df_time.index.values):\n",
        "      if e == 0:\n",
        "          plt.axvline(t, ls = '--', label = '5 Mins time bars')\n",
        "      else:\n",
        "          plt.axvline(t, ls = '--')\n",
        "\n",
        "  plt.legend()\n",
        "  \n",
        "  return plt.show()\n",
        "  "
      ],
      "execution_count": 0,
      "outputs": []
    },
    {
      "cell_type": "code",
      "metadata": {
        "id": "TJQEJHO4RKMz",
        "colab_type": "code",
        "outputId": "ad9eb24d-a4cd-45b6-8c63-ebf7045e5712",
        "colab": {
          "base_uri": "https://localhost:8080/",
          "height": 499
        }
      },
      "source": [
        "ploteo_comparacion_bars(tradesT,time_bars,ticks_bars,dollar_bars)"
      ],
      "execution_count": 0,
      "outputs": [
        {
          "output_type": "display_data",
          "data": {
            "image/png": "[encoded data removed]",
            "text/plain": [
              "<Figure size 1296x576 with 1 Axes>"
            ]
          },
          "metadata": {
            "tags": []
          }
        }
      ]
    },
    {
      "cell_type": "code",
      "metadata": {
        "id": "oww6-VNSR4ON",
        "colab_type": "code",
        "colab": {}
      },
      "source": [
        "#esto todavia estoy tratando de entenderlo \n",
        "class ImbalanceTickBarSeries(BarSeries):\n",
        "    '''\n",
        "        Clase para generar series de imbalance tick bars\n",
        "    '''\n",
        "    def __init__(self, df, datetimecolumn = 'timestamp', volume_column = 'volume'):\n",
        "        self.volume_column = volume_column\n",
        "        super(ImbalanceTickBarSeries, self).__init__(df, datetimecolumn)\n",
        "        \n",
        "    def get_bt(self, data):\n",
        "        s = np.sign(np.diff(data))\n",
        "        for i in range(1, len(s)):\n",
        "            if s[i] == 0:\n",
        "                s[i] = s[i-1]\n",
        "        return s\n",
        "\n",
        "    def get_theta_t(self, bt):\n",
        "        return np.sum(bt)\n",
        "\n",
        "    def ewma(self, data, window):\n",
        "\n",
        "        alpha = 2 /(window + 1.0)\n",
        "        alpha_rev = 1-alpha\n",
        "\n",
        "        scale = 1/alpha_rev\n",
        "        n = data.shape[0]\n",
        "\n",
        "        r = np.arange(n)\n",
        "        scale_arr = scale**r\n",
        "        offset = data[0]*alpha_rev**(r+1)\n",
        "        pw0 = alpha*alpha_rev**(n-1)\n",
        "\n",
        "        mult = data*pw0*scale_arr\n",
        "        cumsums = mult.cumsum()\n",
        "        out = offset + cumsums*scale_arr[::-1]\n",
        "        return out\n",
        "               \n",
        "    def process_column(self, column_name, initital_T = 100, min_bar = 10, max_bar = 1000):\n",
        "        init_bar = self.df[:initital_T][column_name].values.tolist()\n",
        "\n",
        "        ts = [initital_T]\n",
        "        bts = [bti for bti in self.get_bt(init_bar)]  \n",
        "        res = []\n",
        "\n",
        "        buf_bar, vbuf, T = [], [], 0.\n",
        "        for i in range(initital_T, len(self.df)):\n",
        "\n",
        " \n",
        "            di = self.df.index.values[i]\n",
        "\n",
        "            buf_bar.append(self.df[column_name].iloc[i])\n",
        "            bt = self.get_bt(buf_bar)\n",
        "            theta_t = self.get_theta_t(bt)\n",
        "\n",
        "            try:\n",
        "                e_t = self.ewma(np.array(ts), initital_T / 10)[-1]\n",
        "                e_bt = self.ewma(np.array(bts), initital_T)[-1]\n",
        "            except:\n",
        "                e_t = np.mean(ts)\n",
        "                e_bt = np.mean(bts)\n",
        "            finally:                   \n",
        "                if np.isnan(e_bt):\n",
        "                    e_bt = np.mean(bts[int(len(bts) * 0.9):])\n",
        "                if np.isnan(e_t):\n",
        "                    e_t = np.mean(ts[int(len(ts) * 0.9):])\n",
        "\n",
        "                \n",
        "            condition = np.abs(theta_t) >= e_t * np.abs(e_bt)\n",
        "\n",
        "            \n",
        "            if (condition or len(buf_bar) > max_bar) and len(buf_bar) >= min_bar:\n",
        "\n",
        "                o = buf_bar[0]\n",
        "                h = np.max(buf_bar)\n",
        "                l = np.min(buf_bar)\n",
        "                c = buf_bar[-1]\n",
        "                v = np.sum(vbuf)\n",
        "                \n",
        "                res.append({\n",
        "                    self.datetimecolumn: di,\n",
        "                    'open': o,\n",
        "                    'high': h,\n",
        "                    'low': l,\n",
        "                    'close': c,\n",
        "                    'volume': v\n",
        "                })\n",
        "                \n",
        "                ts.append(T)\n",
        "                for b in bt:\n",
        "                    bts.append(b) \n",
        "                    \n",
        "                buf_bar = []\n",
        "                vbuf = []\n",
        "                T = 0.           \n",
        "            else:\n",
        "                vbuf.append(self.df[self.volume_column].iloc[i])\n",
        "                T += 1\n",
        "\n",
        "        res = pd.DataFrame(res).set_index(self.datetimecolumn)\n",
        "        return res \n",
        "    \n",
        "    def process_ticks(self, price_column = 'price', volume_column = 'volume', init = 100, min_bar = 10, max_bar = 1000):\n",
        "        price_df = self.process_column(price_column, init, min_bar, max_bar)\n",
        "        return price_df  "
      ],
      "execution_count": 0,
      "outputs": []
    },
    {
      "cell_type": "code",
      "metadata": {
        "id": "aplVnBYXSTia",
        "colab_type": "code",
        "colab": {}
      },
      "source": [
        ""
      ],
      "execution_count": 0,
      "outputs": []
    }
  ]
}